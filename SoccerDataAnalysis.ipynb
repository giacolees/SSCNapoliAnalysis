{
 "cells": [
  {
   "cell_type": "code",
   "execution_count": 225,
   "metadata": {},
   "outputs": [],
   "source": [
    "from statsbombpy import sb\n",
    "import pandas as pd\n",
    "import numpy as np\n",
    "from sklearn.ensemble import RandomForestClassifier\n",
    "import matplotlib.pyplot as plt\n",
    "from sklearn.model_selection import train_test_split\n",
    "from sklearn.metrics import confusion_matrix, ConfusionMatrixDisplay\n",
    "from sklearn.metrics import roc_auc_score, log_loss\n",
    "from xgboost import XGBClassifier\n",
    "import seaborn as sns\n",
    "from sklearn.cluster import KMeans\n",
    "from sklearn.preprocessing import StandardScaler, MinMaxScaler"
   ]
  },
  {
   "cell_type": "markdown",
   "metadata": {},
   "source": [
    "# Matches Analysis"
   ]
  },
  {
   "cell_type": "code",
   "execution_count": 2,
   "metadata": {},
   "outputs": [
    {
     "name": "stderr",
     "output_type": "stream",
     "text": [
      "c:\\Python311\\Lib\\site-packages\\statsbombpy\\api_client.py:21: NoAuthWarning: credentials were not supplied. open data access only\n",
      "  warnings.warn(\n"
     ]
    },
    {
     "data": {
      "text/html": [
       "<div>\n",
       "<style scoped>\n",
       "    .dataframe tbody tr th:only-of-type {\n",
       "        vertical-align: middle;\n",
       "    }\n",
       "\n",
       "    .dataframe tbody tr th {\n",
       "        vertical-align: top;\n",
       "    }\n",
       "\n",
       "    .dataframe thead th {\n",
       "        text-align: right;\n",
       "    }\n",
       "</style>\n",
       "<table border=\"1\" class=\"dataframe\">\n",
       "  <thead>\n",
       "    <tr style=\"text-align: right;\">\n",
       "      <th></th>\n",
       "      <th>competition_id</th>\n",
       "      <th>season_id</th>\n",
       "      <th>country_name</th>\n",
       "      <th>competition_name</th>\n",
       "      <th>competition_gender</th>\n",
       "      <th>competition_youth</th>\n",
       "      <th>competition_international</th>\n",
       "      <th>season_name</th>\n",
       "      <th>match_updated</th>\n",
       "      <th>match_updated_360</th>\n",
       "      <th>match_available_360</th>\n",
       "      <th>match_available</th>\n",
       "    </tr>\n",
       "  </thead>\n",
       "  <tbody>\n",
       "    <tr>\n",
       "      <th>66</th>\n",
       "      <td>12</td>\n",
       "      <td>27</td>\n",
       "      <td>Italy</td>\n",
       "      <td>Serie A</td>\n",
       "      <td>male</td>\n",
       "      <td>False</td>\n",
       "      <td>False</td>\n",
       "      <td>2015/2016</td>\n",
       "      <td>2024-06-25T23:56:11.910924</td>\n",
       "      <td>None</td>\n",
       "      <td>None</td>\n",
       "      <td>2024-06-25T23:56:11.910924</td>\n",
       "    </tr>\n",
       "    <tr>\n",
       "      <th>67</th>\n",
       "      <td>12</td>\n",
       "      <td>86</td>\n",
       "      <td>Italy</td>\n",
       "      <td>Serie A</td>\n",
       "      <td>male</td>\n",
       "      <td>False</td>\n",
       "      <td>False</td>\n",
       "      <td>1986/1987</td>\n",
       "      <td>2023-06-18T01:55:53.343752</td>\n",
       "      <td>None</td>\n",
       "      <td>None</td>\n",
       "      <td>2023-06-18T01:55:53.343752</td>\n",
       "    </tr>\n",
       "  </tbody>\n",
       "</table>\n",
       "</div>"
      ],
      "text/plain": [
       "    competition_id  season_id country_name competition_name  \\\n",
       "66              12         27        Italy          Serie A   \n",
       "67              12         86        Italy          Serie A   \n",
       "\n",
       "   competition_gender  competition_youth  competition_international  \\\n",
       "66               male              False                      False   \n",
       "67               male              False                      False   \n",
       "\n",
       "   season_name               match_updated match_updated_360  \\\n",
       "66   2015/2016  2024-06-25T23:56:11.910924              None   \n",
       "67   1986/1987  2023-06-18T01:55:53.343752              None   \n",
       "\n",
       "   match_available_360             match_available  \n",
       "66                None  2024-06-25T23:56:11.910924  \n",
       "67                None  2023-06-18T01:55:53.343752  "
      ]
     },
     "execution_count": 2,
     "metadata": {},
     "output_type": "execute_result"
    }
   ],
   "source": [
    "competitions = sb.competitions()\n",
    "serie_a = competitions[competitions['competition_name'] == 'Serie A']\n",
    "serie_a"
   ]
  },
  {
   "cell_type": "code",
   "execution_count": 3,
   "metadata": {},
   "outputs": [
    {
     "name": "stderr",
     "output_type": "stream",
     "text": [
      "c:\\Python311\\Lib\\site-packages\\statsbombpy\\api_client.py:21: NoAuthWarning: credentials were not supplied. open data access only\n",
      "  warnings.warn(\n"
     ]
    }
   ],
   "source": [
    "matches_1516 = sb.matches(competition_id=12, season_id=27)"
   ]
  },
  {
   "cell_type": "code",
   "execution_count": 4,
   "metadata": {},
   "outputs": [],
   "source": [
    "matches_napoli = matches_1516[matches_1516['home_team'].str.contains('Napoli') | matches_1516['away_team'].str.contains('Napoli')]\n",
    "matches_napoli = matches_napoli.sort_values('match_date', ascending=True)\n",
    "matches_napoli.reset_index(drop=True, inplace=True)\n",
    "matches_napoli_filtered = matches_napoli.drop(columns=['shot_fidelity_version', 'xy_fidelity_version', 'competition', 'season', 'competition_stage', 'last_updated', 'last_updated_360', 'data_version', 'match_status', 'match_status_360'])"
   ]
  },
  {
   "cell_type": "code",
   "execution_count": 5,
   "metadata": {},
   "outputs": [
    {
     "data": {
      "text/html": [
       "<div>\n",
       "<style scoped>\n",
       "    .dataframe tbody tr th:only-of-type {\n",
       "        vertical-align: middle;\n",
       "    }\n",
       "\n",
       "    .dataframe tbody tr th {\n",
       "        vertical-align: top;\n",
       "    }\n",
       "\n",
       "    .dataframe thead th {\n",
       "        text-align: right;\n",
       "    }\n",
       "</style>\n",
       "<table border=\"1\" class=\"dataframe\">\n",
       "  <thead>\n",
       "    <tr style=\"text-align: right;\">\n",
       "      <th></th>\n",
       "      <th>match_id</th>\n",
       "      <th>match_date</th>\n",
       "      <th>kick_off</th>\n",
       "      <th>home_team</th>\n",
       "      <th>away_team</th>\n",
       "      <th>home_score</th>\n",
       "      <th>away_score</th>\n",
       "      <th>match_week</th>\n",
       "      <th>stadium</th>\n",
       "      <th>referee</th>\n",
       "      <th>home_managers</th>\n",
       "      <th>away_managers</th>\n",
       "      <th>home_play</th>\n",
       "      <th>result</th>\n",
       "    </tr>\n",
       "  </thead>\n",
       "  <tbody>\n",
       "    <tr>\n",
       "      <th>0</th>\n",
       "      <td>3878546</td>\n",
       "      <td>2015-08-23</td>\n",
       "      <td>20:45:00.000</td>\n",
       "      <td>Sassuolo</td>\n",
       "      <td>Napoli</td>\n",
       "      <td>2</td>\n",
       "      <td>1</td>\n",
       "      <td>1</td>\n",
       "      <td>MAPEI Stadium - Città del Tricolore</td>\n",
       "      <td>Daniele Doveri</td>\n",
       "      <td>Eusebio Di Francesco</td>\n",
       "      <td>Maurizio Sarri</td>\n",
       "      <td>False</td>\n",
       "      <td>Lose</td>\n",
       "    </tr>\n",
       "    <tr>\n",
       "      <th>1</th>\n",
       "      <td>3878558</td>\n",
       "      <td>2015-08-30</td>\n",
       "      <td>20:45:00.000</td>\n",
       "      <td>Napoli</td>\n",
       "      <td>Sampdoria</td>\n",
       "      <td>2</td>\n",
       "      <td>2</td>\n",
       "      <td>2</td>\n",
       "      <td>Stadio Diego Armando Maradona</td>\n",
       "      <td>Andrea Gervasoni</td>\n",
       "      <td>Maurizio Sarri</td>\n",
       "      <td>Walter Zenga</td>\n",
       "      <td>True</td>\n",
       "      <td>Draw</td>\n",
       "    </tr>\n",
       "    <tr>\n",
       "      <th>2</th>\n",
       "      <td>3878597</td>\n",
       "      <td>2015-09-13</td>\n",
       "      <td>15:00:00.000</td>\n",
       "      <td>Empoli</td>\n",
       "      <td>Napoli</td>\n",
       "      <td>2</td>\n",
       "      <td>2</td>\n",
       "      <td>3</td>\n",
       "      <td>Stadio Carlo Castellani</td>\n",
       "      <td>Luca Banti</td>\n",
       "      <td>Marco Giampaolo</td>\n",
       "      <td>Maurizio Sarri</td>\n",
       "      <td>False</td>\n",
       "      <td>Draw</td>\n",
       "    </tr>\n",
       "    <tr>\n",
       "      <th>3</th>\n",
       "      <td>3878604</td>\n",
       "      <td>2015-09-20</td>\n",
       "      <td>20:45:00.000</td>\n",
       "      <td>Napoli</td>\n",
       "      <td>Lazio</td>\n",
       "      <td>5</td>\n",
       "      <td>0</td>\n",
       "      <td>4</td>\n",
       "      <td>Stadio Diego Armando Maradona</td>\n",
       "      <td>Antonio Damato</td>\n",
       "      <td>Maurizio Sarri</td>\n",
       "      <td>Stefano Pioli</td>\n",
       "      <td>True</td>\n",
       "      <td>Win</td>\n",
       "    </tr>\n",
       "    <tr>\n",
       "      <th>4</th>\n",
       "      <td>3879539</td>\n",
       "      <td>2015-09-23</td>\n",
       "      <td>20:45:00.000</td>\n",
       "      <td>Carpi</td>\n",
       "      <td>Napoli</td>\n",
       "      <td>0</td>\n",
       "      <td>0</td>\n",
       "      <td>5</td>\n",
       "      <td>Stadio Alberto Braglia (Modena)</td>\n",
       "      <td>Gianluca Rocchi</td>\n",
       "      <td>Fabrizio Castori</td>\n",
       "      <td>Maurizio Sarri</td>\n",
       "      <td>False</td>\n",
       "      <td>Draw</td>\n",
       "    </tr>\n",
       "    <tr>\n",
       "      <th>5</th>\n",
       "      <td>3879548</td>\n",
       "      <td>2015-09-26</td>\n",
       "      <td>20:45:00.000</td>\n",
       "      <td>Napoli</td>\n",
       "      <td>Juventus</td>\n",
       "      <td>2</td>\n",
       "      <td>1</td>\n",
       "      <td>6</td>\n",
       "      <td>Stadio Diego Armando Maradona</td>\n",
       "      <td>Daniele Orsato</td>\n",
       "      <td>Maurizio Sarri</td>\n",
       "      <td>Massimiliano Allegri</td>\n",
       "      <td>True</td>\n",
       "      <td>Win</td>\n",
       "    </tr>\n",
       "    <tr>\n",
       "      <th>6</th>\n",
       "      <td>3879562</td>\n",
       "      <td>2015-10-04</td>\n",
       "      <td>20:45:00.000</td>\n",
       "      <td>AC Milan</td>\n",
       "      <td>Napoli</td>\n",
       "      <td>0</td>\n",
       "      <td>4</td>\n",
       "      <td>7</td>\n",
       "      <td>Stadio Giuseppe Meazza</td>\n",
       "      <td>Nicola Rizzoli</td>\n",
       "      <td>Siniša Mihajlović</td>\n",
       "      <td>Maurizio Sarri</td>\n",
       "      <td>False</td>\n",
       "      <td>Win</td>\n",
       "    </tr>\n",
       "    <tr>\n",
       "      <th>7</th>\n",
       "      <td>3879572</td>\n",
       "      <td>2015-10-18</td>\n",
       "      <td>15:00:00.000</td>\n",
       "      <td>Napoli</td>\n",
       "      <td>Fiorentina</td>\n",
       "      <td>2</td>\n",
       "      <td>1</td>\n",
       "      <td>8</td>\n",
       "      <td>Stadio Diego Armando Maradona</td>\n",
       "      <td>Luca Banti</td>\n",
       "      <td>Maurizio Sarri</td>\n",
       "      <td>Paulo Manuel Carvalho de Sousa</td>\n",
       "      <td>True</td>\n",
       "      <td>Win</td>\n",
       "    </tr>\n",
       "    <tr>\n",
       "      <th>8</th>\n",
       "      <td>3879581</td>\n",
       "      <td>2015-10-25</td>\n",
       "      <td>20:45:00.000</td>\n",
       "      <td>Chievo</td>\n",
       "      <td>Napoli</td>\n",
       "      <td>0</td>\n",
       "      <td>1</td>\n",
       "      <td>9</td>\n",
       "      <td>Stadio Marc''Antonio Bentegodi</td>\n",
       "      <td>Davide Massa</td>\n",
       "      <td>Rolando Maran</td>\n",
       "      <td>Maurizio Sarri</td>\n",
       "      <td>False</td>\n",
       "      <td>Win</td>\n",
       "    </tr>\n",
       "    <tr>\n",
       "      <th>9</th>\n",
       "      <td>3879593</td>\n",
       "      <td>2015-10-28</td>\n",
       "      <td>21:45:00.000</td>\n",
       "      <td>Napoli</td>\n",
       "      <td>Palermo</td>\n",
       "      <td>2</td>\n",
       "      <td>0</td>\n",
       "      <td>10</td>\n",
       "      <td>Stadio Diego Armando Maradona</td>\n",
       "      <td>Piero Giacomelli</td>\n",
       "      <td>Maurizio Sarri</td>\n",
       "      <td>Giuseppe Iachini</td>\n",
       "      <td>True</td>\n",
       "      <td>Win</td>\n",
       "    </tr>\n",
       "    <tr>\n",
       "      <th>10</th>\n",
       "      <td>3879604</td>\n",
       "      <td>2015-11-01</td>\n",
       "      <td>16:00:00.000</td>\n",
       "      <td>Genoa</td>\n",
       "      <td>Napoli</td>\n",
       "      <td>0</td>\n",
       "      <td>0</td>\n",
       "      <td>11</td>\n",
       "      <td>Stadio Comunale Luigi Ferraris</td>\n",
       "      <td>Daniele Doveri</td>\n",
       "      <td>Gian Piero Gasperini</td>\n",
       "      <td>Maurizio Sarri</td>\n",
       "      <td>False</td>\n",
       "      <td>Draw</td>\n",
       "    </tr>\n",
       "    <tr>\n",
       "      <th>11</th>\n",
       "      <td>3879609</td>\n",
       "      <td>2015-11-08</td>\n",
       "      <td>19:00:00.000</td>\n",
       "      <td>Napoli</td>\n",
       "      <td>Udinese</td>\n",
       "      <td>1</td>\n",
       "      <td>0</td>\n",
       "      <td>12</td>\n",
       "      <td>Stadio Diego Armando Maradona</td>\n",
       "      <td>Domenico Celi</td>\n",
       "      <td>Maurizio Sarri</td>\n",
       "      <td>Stefano Colantuono</td>\n",
       "      <td>True</td>\n",
       "      <td>Win</td>\n",
       "    </tr>\n",
       "    <tr>\n",
       "      <th>12</th>\n",
       "      <td>3879620</td>\n",
       "      <td>2015-11-22</td>\n",
       "      <td>13:30:00.000</td>\n",
       "      <td>Hellas Verona</td>\n",
       "      <td>Napoli</td>\n",
       "      <td>0</td>\n",
       "      <td>2</td>\n",
       "      <td>13</td>\n",
       "      <td>Stadio Marc''Antonio Bentegodi</td>\n",
       "      <td>Antonio Damato</td>\n",
       "      <td>Andrea Mandorlini</td>\n",
       "      <td>Maurizio Sarri</td>\n",
       "      <td>False</td>\n",
       "      <td>Win</td>\n",
       "    </tr>\n",
       "    <tr>\n",
       "      <th>13</th>\n",
       "      <td>3879635</td>\n",
       "      <td>2015-11-30</td>\n",
       "      <td>22:00:00.000</td>\n",
       "      <td>Napoli</td>\n",
       "      <td>Inter Milan</td>\n",
       "      <td>2</td>\n",
       "      <td>1</td>\n",
       "      <td>14</td>\n",
       "      <td>Stadio Diego Armando Maradona</td>\n",
       "      <td>Daniele Orsato</td>\n",
       "      <td>Maurizio Sarri</td>\n",
       "      <td>Roberto Mancini</td>\n",
       "      <td>True</td>\n",
       "      <td>Win</td>\n",
       "    </tr>\n",
       "    <tr>\n",
       "      <th>14</th>\n",
       "      <td>3879645</td>\n",
       "      <td>2015-12-06</td>\n",
       "      <td>13:30:00.000</td>\n",
       "      <td>Bologna</td>\n",
       "      <td>Napoli</td>\n",
       "      <td>3</td>\n",
       "      <td>2</td>\n",
       "      <td>15</td>\n",
       "      <td>Stadio Renato Dall''Ara</td>\n",
       "      <td>Paolo Silvio Mazzoleni</td>\n",
       "      <td>Roberto Donadoni</td>\n",
       "      <td>Maurizio Sarri</td>\n",
       "      <td>False</td>\n",
       "      <td>Lose</td>\n",
       "    </tr>\n",
       "    <tr>\n",
       "      <th>15</th>\n",
       "      <td>3879651</td>\n",
       "      <td>2015-12-13</td>\n",
       "      <td>19:00:00.000</td>\n",
       "      <td>Napoli</td>\n",
       "      <td>AS Roma</td>\n",
       "      <td>0</td>\n",
       "      <td>0</td>\n",
       "      <td>16</td>\n",
       "      <td>Stadio Diego Armando Maradona</td>\n",
       "      <td>Nicola Rizzoli</td>\n",
       "      <td>Maurizio Sarri</td>\n",
       "      <td>Rudi Garcia</td>\n",
       "      <td>True</td>\n",
       "      <td>Draw</td>\n",
       "    </tr>\n",
       "    <tr>\n",
       "      <th>16</th>\n",
       "      <td>3879661</td>\n",
       "      <td>2015-12-20</td>\n",
       "      <td>16:00:00.000</td>\n",
       "      <td>Atalanta</td>\n",
       "      <td>Napoli</td>\n",
       "      <td>1</td>\n",
       "      <td>3</td>\n",
       "      <td>17</td>\n",
       "      <td>Gewiss Stadium</td>\n",
       "      <td>Gianluca Rocchi</td>\n",
       "      <td>Edoardo Reja</td>\n",
       "      <td>Maurizio Sarri</td>\n",
       "      <td>False</td>\n",
       "      <td>Win</td>\n",
       "    </tr>\n",
       "    <tr>\n",
       "      <th>17</th>\n",
       "      <td>3879669</td>\n",
       "      <td>2016-01-06</td>\n",
       "      <td>21:45:00.000</td>\n",
       "      <td>Napoli</td>\n",
       "      <td>Torino</td>\n",
       "      <td>2</td>\n",
       "      <td>1</td>\n",
       "      <td>18</td>\n",
       "      <td>Stadio Diego Armando Maradona</td>\n",
       "      <td>Marco Di Bello</td>\n",
       "      <td>Maurizio Sarri</td>\n",
       "      <td>Gian Piero Ventura\\t</td>\n",
       "      <td>True</td>\n",
       "      <td>Win</td>\n",
       "    </tr>\n",
       "    <tr>\n",
       "      <th>18</th>\n",
       "      <td>3879679</td>\n",
       "      <td>2016-01-10</td>\n",
       "      <td>16:00:00.000</td>\n",
       "      <td>Frosinone</td>\n",
       "      <td>Napoli</td>\n",
       "      <td>1</td>\n",
       "      <td>5</td>\n",
       "      <td>19</td>\n",
       "      <td>Stadio Comunale Matusa</td>\n",
       "      <td>Paolo Tagliavento</td>\n",
       "      <td>Roberto Stellone</td>\n",
       "      <td>Maurizio Sarri</td>\n",
       "      <td>False</td>\n",
       "      <td>Win</td>\n",
       "    </tr>\n",
       "    <tr>\n",
       "      <th>19</th>\n",
       "      <td>3879686</td>\n",
       "      <td>2016-01-16</td>\n",
       "      <td>21:45:00.000</td>\n",
       "      <td>Napoli</td>\n",
       "      <td>Sassuolo</td>\n",
       "      <td>3</td>\n",
       "      <td>1</td>\n",
       "      <td>20</td>\n",
       "      <td>Stadio Diego Armando Maradona</td>\n",
       "      <td>Piero Giacomelli</td>\n",
       "      <td>Maurizio Sarri</td>\n",
       "      <td>Eusebio Di Francesco</td>\n",
       "      <td>True</td>\n",
       "      <td>Win</td>\n",
       "    </tr>\n",
       "    <tr>\n",
       "      <th>20</th>\n",
       "      <td>3879699</td>\n",
       "      <td>2016-01-24</td>\n",
       "      <td>16:00:00.000</td>\n",
       "      <td>Sampdoria</td>\n",
       "      <td>Napoli</td>\n",
       "      <td>2</td>\n",
       "      <td>4</td>\n",
       "      <td>21</td>\n",
       "      <td>Stadio Comunale Luigi Ferraris</td>\n",
       "      <td>Daniele Orsato</td>\n",
       "      <td>Vincenzo Montella</td>\n",
       "      <td>Maurizio Sarri</td>\n",
       "      <td>False</td>\n",
       "      <td>Win</td>\n",
       "    </tr>\n",
       "    <tr>\n",
       "      <th>21</th>\n",
       "      <td>3879714</td>\n",
       "      <td>2016-01-31</td>\n",
       "      <td>16:00:00.000</td>\n",
       "      <td>Napoli</td>\n",
       "      <td>Empoli</td>\n",
       "      <td>5</td>\n",
       "      <td>1</td>\n",
       "      <td>22</td>\n",
       "      <td>Stadio Diego Armando Maradona</td>\n",
       "      <td>Davide Massa</td>\n",
       "      <td>Maurizio Sarri</td>\n",
       "      <td>Marco Giampaolo</td>\n",
       "      <td>True</td>\n",
       "      <td>Win</td>\n",
       "    </tr>\n",
       "    <tr>\n",
       "      <th>22</th>\n",
       "      <td>3879720</td>\n",
       "      <td>2016-02-03</td>\n",
       "      <td>21:45:00.000</td>\n",
       "      <td>Lazio</td>\n",
       "      <td>Napoli</td>\n",
       "      <td>0</td>\n",
       "      <td>2</td>\n",
       "      <td>23</td>\n",
       "      <td>Estadio Olímpico</td>\n",
       "      <td>Massimiliano Irrati</td>\n",
       "      <td>Stefano Pioli</td>\n",
       "      <td>Maurizio Sarri</td>\n",
       "      <td>False</td>\n",
       "      <td>Win</td>\n",
       "    </tr>\n",
       "    <tr>\n",
       "      <th>23</th>\n",
       "      <td>3879731</td>\n",
       "      <td>2016-02-07</td>\n",
       "      <td>16:00:00.000</td>\n",
       "      <td>Napoli</td>\n",
       "      <td>Carpi</td>\n",
       "      <td>1</td>\n",
       "      <td>0</td>\n",
       "      <td>24</td>\n",
       "      <td>Stadio Diego Armando Maradona</td>\n",
       "      <td>Daniele Doveri</td>\n",
       "      <td>Maurizio Sarri</td>\n",
       "      <td>Fabrizio Castori</td>\n",
       "      <td>True</td>\n",
       "      <td>Win</td>\n",
       "    </tr>\n",
       "    <tr>\n",
       "      <th>24</th>\n",
       "      <td>3879739</td>\n",
       "      <td>2016-02-13</td>\n",
       "      <td>21:45:00.000</td>\n",
       "      <td>Juventus</td>\n",
       "      <td>Napoli</td>\n",
       "      <td>1</td>\n",
       "      <td>0</td>\n",
       "      <td>25</td>\n",
       "      <td>Allianz Stadium    \\t</td>\n",
       "      <td>Daniele Orsato</td>\n",
       "      <td>Massimiliano Allegri</td>\n",
       "      <td>Maurizio Sarri</td>\n",
       "      <td>False</td>\n",
       "      <td>Lose</td>\n",
       "    </tr>\n",
       "    <tr>\n",
       "      <th>25</th>\n",
       "      <td>3879756</td>\n",
       "      <td>2016-02-22</td>\n",
       "      <td>22:00:00.000</td>\n",
       "      <td>Napoli</td>\n",
       "      <td>AC Milan</td>\n",
       "      <td>1</td>\n",
       "      <td>1</td>\n",
       "      <td>26</td>\n",
       "      <td>Stadio Diego Armando Maradona</td>\n",
       "      <td>Luca Banti</td>\n",
       "      <td>Maurizio Sarri</td>\n",
       "      <td>Siniša Mihajlović</td>\n",
       "      <td>True</td>\n",
       "      <td>Draw</td>\n",
       "    </tr>\n",
       "    <tr>\n",
       "      <th>26</th>\n",
       "      <td>3879765</td>\n",
       "      <td>2016-02-29</td>\n",
       "      <td>22:00:00.000</td>\n",
       "      <td>Fiorentina</td>\n",
       "      <td>Napoli</td>\n",
       "      <td>1</td>\n",
       "      <td>1</td>\n",
       "      <td>27</td>\n",
       "      <td>Stadio Artemio Franchi    \\t</td>\n",
       "      <td>Paolo Tagliavento</td>\n",
       "      <td>Paulo Manuel Carvalho de Sousa</td>\n",
       "      <td>Maurizio Sarri</td>\n",
       "      <td>False</td>\n",
       "      <td>Draw</td>\n",
       "    </tr>\n",
       "    <tr>\n",
       "      <th>27</th>\n",
       "      <td>3879769</td>\n",
       "      <td>2016-03-05</td>\n",
       "      <td>21:45:00.000</td>\n",
       "      <td>Napoli</td>\n",
       "      <td>Chievo</td>\n",
       "      <td>3</td>\n",
       "      <td>1</td>\n",
       "      <td>28</td>\n",
       "      <td>Stadio Diego Armando Maradona</td>\n",
       "      <td>Marco Di Bello</td>\n",
       "      <td>Maurizio Sarri</td>\n",
       "      <td>Rolando Maran</td>\n",
       "      <td>True</td>\n",
       "      <td>Win</td>\n",
       "    </tr>\n",
       "    <tr>\n",
       "      <th>28</th>\n",
       "      <td>3879786</td>\n",
       "      <td>2016-03-13</td>\n",
       "      <td>21:45:00.000</td>\n",
       "      <td>Palermo</td>\n",
       "      <td>Napoli</td>\n",
       "      <td>0</td>\n",
       "      <td>1</td>\n",
       "      <td>29</td>\n",
       "      <td>Stadio Renzo Barbera</td>\n",
       "      <td>Gianluca Rocchi</td>\n",
       "      <td>Walter Novellino</td>\n",
       "      <td>Maurizio Sarri</td>\n",
       "      <td>False</td>\n",
       "      <td>Win</td>\n",
       "    </tr>\n",
       "    <tr>\n",
       "      <th>29</th>\n",
       "      <td>3879796</td>\n",
       "      <td>2016-03-20</td>\n",
       "      <td>19:00:00.000</td>\n",
       "      <td>Napoli</td>\n",
       "      <td>Genoa</td>\n",
       "      <td>3</td>\n",
       "      <td>1</td>\n",
       "      <td>30</td>\n",
       "      <td>Stadio Diego Armando Maradona</td>\n",
       "      <td>Andrea Gervasoni</td>\n",
       "      <td>Maurizio Sarri</td>\n",
       "      <td>Gian Piero Gasperini</td>\n",
       "      <td>True</td>\n",
       "      <td>Win</td>\n",
       "    </tr>\n",
       "    <tr>\n",
       "      <th>30</th>\n",
       "      <td>3879803</td>\n",
       "      <td>2016-04-03</td>\n",
       "      <td>12:30:00.000</td>\n",
       "      <td>Udinese</td>\n",
       "      <td>Napoli</td>\n",
       "      <td>3</td>\n",
       "      <td>1</td>\n",
       "      <td>31</td>\n",
       "      <td>Dacia Arena</td>\n",
       "      <td>Massimiliano Irrati</td>\n",
       "      <td>Luigi De Canio</td>\n",
       "      <td>Maurizio Sarri</td>\n",
       "      <td>False</td>\n",
       "      <td>Lose</td>\n",
       "    </tr>\n",
       "    <tr>\n",
       "      <th>31</th>\n",
       "      <td>3879811</td>\n",
       "      <td>2016-04-10</td>\n",
       "      <td>15:00:00.000</td>\n",
       "      <td>Napoli</td>\n",
       "      <td>Hellas Verona</td>\n",
       "      <td>3</td>\n",
       "      <td>0</td>\n",
       "      <td>32</td>\n",
       "      <td>Stadio Diego Armando Maradona</td>\n",
       "      <td>Domenico Celi</td>\n",
       "      <td>Maurizio Sarri</td>\n",
       "      <td>Luigi Delneri</td>\n",
       "      <td>True</td>\n",
       "      <td>Win</td>\n",
       "    </tr>\n",
       "    <tr>\n",
       "      <th>32</th>\n",
       "      <td>3879817</td>\n",
       "      <td>2016-04-16</td>\n",
       "      <td>20:45:00.000</td>\n",
       "      <td>Inter Milan</td>\n",
       "      <td>Napoli</td>\n",
       "      <td>2</td>\n",
       "      <td>0</td>\n",
       "      <td>33</td>\n",
       "      <td>Stadio Giuseppe Meazza</td>\n",
       "      <td>Gianluca Rocchi</td>\n",
       "      <td>Roberto Mancini</td>\n",
       "      <td>Maurizio Sarri</td>\n",
       "      <td>False</td>\n",
       "      <td>Lose</td>\n",
       "    </tr>\n",
       "    <tr>\n",
       "      <th>33</th>\n",
       "      <td>3879827</td>\n",
       "      <td>2016-04-19</td>\n",
       "      <td>20:45:00.000</td>\n",
       "      <td>Napoli</td>\n",
       "      <td>Bologna</td>\n",
       "      <td>6</td>\n",
       "      <td>0</td>\n",
       "      <td>34</td>\n",
       "      <td>Stadio Diego Armando Maradona</td>\n",
       "      <td>Andrea Gervasoni</td>\n",
       "      <td>Maurizio Sarri</td>\n",
       "      <td>Roberto Donadoni</td>\n",
       "      <td>True</td>\n",
       "      <td>Win</td>\n",
       "    </tr>\n",
       "    <tr>\n",
       "      <th>34</th>\n",
       "      <td>3879845</td>\n",
       "      <td>2016-04-25</td>\n",
       "      <td>15:00:00.000</td>\n",
       "      <td>AS Roma</td>\n",
       "      <td>Napoli</td>\n",
       "      <td>1</td>\n",
       "      <td>0</td>\n",
       "      <td>35</td>\n",
       "      <td>Estadio Olímpico</td>\n",
       "      <td>Daniele Orsato</td>\n",
       "      <td>Luciano Spalletti</td>\n",
       "      <td>Maurizio Sarri</td>\n",
       "      <td>False</td>\n",
       "      <td>Lose</td>\n",
       "    </tr>\n",
       "    <tr>\n",
       "      <th>35</th>\n",
       "      <td>3879855</td>\n",
       "      <td>2016-05-02</td>\n",
       "      <td>21:00:00.000</td>\n",
       "      <td>Napoli</td>\n",
       "      <td>Atalanta</td>\n",
       "      <td>2</td>\n",
       "      <td>1</td>\n",
       "      <td>36</td>\n",
       "      <td>Stadio Diego Armando Maradona</td>\n",
       "      <td>Piero Giacomelli</td>\n",
       "      <td>Maurizio Sarri</td>\n",
       "      <td>Edoardo Reja</td>\n",
       "      <td>True</td>\n",
       "      <td>Win</td>\n",
       "    </tr>\n",
       "    <tr>\n",
       "      <th>36</th>\n",
       "      <td>3879862</td>\n",
       "      <td>2016-05-08</td>\n",
       "      <td>20:45:00.000</td>\n",
       "      <td>Torino</td>\n",
       "      <td>Napoli</td>\n",
       "      <td>1</td>\n",
       "      <td>2</td>\n",
       "      <td>37</td>\n",
       "      <td>Stadio Olimpico Grande Torino</td>\n",
       "      <td>Antonio Damato</td>\n",
       "      <td>Gian Piero Ventura\\t</td>\n",
       "      <td>Maurizio Sarri</td>\n",
       "      <td>False</td>\n",
       "      <td>Win</td>\n",
       "    </tr>\n",
       "    <tr>\n",
       "      <th>37</th>\n",
       "      <td>3879867</td>\n",
       "      <td>2016-05-14</td>\n",
       "      <td>20:45:00.000</td>\n",
       "      <td>Napoli</td>\n",
       "      <td>Frosinone</td>\n",
       "      <td>4</td>\n",
       "      <td>0</td>\n",
       "      <td>38</td>\n",
       "      <td>Stadio Diego Armando Maradona</td>\n",
       "      <td>Domenico Celi</td>\n",
       "      <td>Maurizio Sarri</td>\n",
       "      <td>Roberto Stellone</td>\n",
       "      <td>True</td>\n",
       "      <td>Win</td>\n",
       "    </tr>\n",
       "  </tbody>\n",
       "</table>\n",
       "</div>"
      ],
      "text/plain": [
       "    match_id  match_date      kick_off      home_team      away_team  \\\n",
       "0    3878546  2015-08-23  20:45:00.000       Sassuolo         Napoli   \n",
       "1    3878558  2015-08-30  20:45:00.000         Napoli      Sampdoria   \n",
       "2    3878597  2015-09-13  15:00:00.000         Empoli         Napoli   \n",
       "3    3878604  2015-09-20  20:45:00.000         Napoli          Lazio   \n",
       "4    3879539  2015-09-23  20:45:00.000          Carpi         Napoli   \n",
       "5    3879548  2015-09-26  20:45:00.000         Napoli       Juventus   \n",
       "6    3879562  2015-10-04  20:45:00.000       AC Milan         Napoli   \n",
       "7    3879572  2015-10-18  15:00:00.000         Napoli     Fiorentina   \n",
       "8    3879581  2015-10-25  20:45:00.000         Chievo         Napoli   \n",
       "9    3879593  2015-10-28  21:45:00.000         Napoli        Palermo   \n",
       "10   3879604  2015-11-01  16:00:00.000          Genoa         Napoli   \n",
       "11   3879609  2015-11-08  19:00:00.000         Napoli        Udinese   \n",
       "12   3879620  2015-11-22  13:30:00.000  Hellas Verona         Napoli   \n",
       "13   3879635  2015-11-30  22:00:00.000         Napoli    Inter Milan   \n",
       "14   3879645  2015-12-06  13:30:00.000        Bologna         Napoli   \n",
       "15   3879651  2015-12-13  19:00:00.000         Napoli        AS Roma   \n",
       "16   3879661  2015-12-20  16:00:00.000       Atalanta         Napoli   \n",
       "17   3879669  2016-01-06  21:45:00.000         Napoli         Torino   \n",
       "18   3879679  2016-01-10  16:00:00.000      Frosinone         Napoli   \n",
       "19   3879686  2016-01-16  21:45:00.000         Napoli       Sassuolo   \n",
       "20   3879699  2016-01-24  16:00:00.000      Sampdoria         Napoli   \n",
       "21   3879714  2016-01-31  16:00:00.000         Napoli         Empoli   \n",
       "22   3879720  2016-02-03  21:45:00.000          Lazio         Napoli   \n",
       "23   3879731  2016-02-07  16:00:00.000         Napoli          Carpi   \n",
       "24   3879739  2016-02-13  21:45:00.000       Juventus         Napoli   \n",
       "25   3879756  2016-02-22  22:00:00.000         Napoli       AC Milan   \n",
       "26   3879765  2016-02-29  22:00:00.000     Fiorentina         Napoli   \n",
       "27   3879769  2016-03-05  21:45:00.000         Napoli         Chievo   \n",
       "28   3879786  2016-03-13  21:45:00.000        Palermo         Napoli   \n",
       "29   3879796  2016-03-20  19:00:00.000         Napoli          Genoa   \n",
       "30   3879803  2016-04-03  12:30:00.000        Udinese         Napoli   \n",
       "31   3879811  2016-04-10  15:00:00.000         Napoli  Hellas Verona   \n",
       "32   3879817  2016-04-16  20:45:00.000    Inter Milan         Napoli   \n",
       "33   3879827  2016-04-19  20:45:00.000         Napoli        Bologna   \n",
       "34   3879845  2016-04-25  15:00:00.000        AS Roma         Napoli   \n",
       "35   3879855  2016-05-02  21:00:00.000         Napoli       Atalanta   \n",
       "36   3879862  2016-05-08  20:45:00.000         Torino         Napoli   \n",
       "37   3879867  2016-05-14  20:45:00.000         Napoli      Frosinone   \n",
       "\n",
       "    home_score  away_score  match_week                              stadium  \\\n",
       "0            2           1           1  MAPEI Stadium - Città del Tricolore   \n",
       "1            2           2           2        Stadio Diego Armando Maradona   \n",
       "2            2           2           3              Stadio Carlo Castellani   \n",
       "3            5           0           4        Stadio Diego Armando Maradona   \n",
       "4            0           0           5      Stadio Alberto Braglia (Modena)   \n",
       "5            2           1           6        Stadio Diego Armando Maradona   \n",
       "6            0           4           7           Stadio Giuseppe Meazza       \n",
       "7            2           1           8        Stadio Diego Armando Maradona   \n",
       "8            0           1           9       Stadio Marc''Antonio Bentegodi   \n",
       "9            2           0          10        Stadio Diego Armando Maradona   \n",
       "10           0           0          11       Stadio Comunale Luigi Ferraris   \n",
       "11           1           0          12        Stadio Diego Armando Maradona   \n",
       "12           0           2          13       Stadio Marc''Antonio Bentegodi   \n",
       "13           2           1          14        Stadio Diego Armando Maradona   \n",
       "14           3           2          15              Stadio Renato Dall''Ara   \n",
       "15           0           0          16        Stadio Diego Armando Maradona   \n",
       "16           1           3          17                       Gewiss Stadium   \n",
       "17           2           1          18        Stadio Diego Armando Maradona   \n",
       "18           1           5          19               Stadio Comunale Matusa   \n",
       "19           3           1          20        Stadio Diego Armando Maradona   \n",
       "20           2           4          21       Stadio Comunale Luigi Ferraris   \n",
       "21           5           1          22        Stadio Diego Armando Maradona   \n",
       "22           0           2          23                     Estadio Olímpico   \n",
       "23           1           0          24        Stadio Diego Armando Maradona   \n",
       "24           1           0          25                Allianz Stadium    \\t   \n",
       "25           1           1          26        Stadio Diego Armando Maradona   \n",
       "26           1           1          27         Stadio Artemio Franchi    \\t   \n",
       "27           3           1          28        Stadio Diego Armando Maradona   \n",
       "28           0           1          29                 Stadio Renzo Barbera   \n",
       "29           3           1          30        Stadio Diego Armando Maradona   \n",
       "30           3           1          31                          Dacia Arena   \n",
       "31           3           0          32        Stadio Diego Armando Maradona   \n",
       "32           2           0          33           Stadio Giuseppe Meazza       \n",
       "33           6           0          34        Stadio Diego Armando Maradona   \n",
       "34           1           0          35                     Estadio Olímpico   \n",
       "35           2           1          36        Stadio Diego Armando Maradona   \n",
       "36           1           2          37        Stadio Olimpico Grande Torino   \n",
       "37           4           0          38        Stadio Diego Armando Maradona   \n",
       "\n",
       "                   referee                   home_managers  \\\n",
       "0           Daniele Doveri            Eusebio Di Francesco   \n",
       "1         Andrea Gervasoni                  Maurizio Sarri   \n",
       "2               Luca Banti                 Marco Giampaolo   \n",
       "3           Antonio Damato                  Maurizio Sarri   \n",
       "4          Gianluca Rocchi                Fabrizio Castori   \n",
       "5           Daniele Orsato                  Maurizio Sarri   \n",
       "6           Nicola Rizzoli               Siniša Mihajlović   \n",
       "7               Luca Banti                  Maurizio Sarri   \n",
       "8             Davide Massa                   Rolando Maran   \n",
       "9         Piero Giacomelli                  Maurizio Sarri   \n",
       "10          Daniele Doveri            Gian Piero Gasperini   \n",
       "11           Domenico Celi                  Maurizio Sarri   \n",
       "12          Antonio Damato               Andrea Mandorlini   \n",
       "13          Daniele Orsato                  Maurizio Sarri   \n",
       "14  Paolo Silvio Mazzoleni                Roberto Donadoni   \n",
       "15          Nicola Rizzoli                  Maurizio Sarri   \n",
       "16         Gianluca Rocchi                    Edoardo Reja   \n",
       "17          Marco Di Bello                  Maurizio Sarri   \n",
       "18       Paolo Tagliavento                Roberto Stellone   \n",
       "19        Piero Giacomelli                  Maurizio Sarri   \n",
       "20          Daniele Orsato               Vincenzo Montella   \n",
       "21            Davide Massa                  Maurizio Sarri   \n",
       "22     Massimiliano Irrati                   Stefano Pioli   \n",
       "23          Daniele Doveri                  Maurizio Sarri   \n",
       "24          Daniele Orsato            Massimiliano Allegri   \n",
       "25              Luca Banti                  Maurizio Sarri   \n",
       "26       Paolo Tagliavento  Paulo Manuel Carvalho de Sousa   \n",
       "27          Marco Di Bello                  Maurizio Sarri   \n",
       "28         Gianluca Rocchi                Walter Novellino   \n",
       "29        Andrea Gervasoni                  Maurizio Sarri   \n",
       "30     Massimiliano Irrati                  Luigi De Canio   \n",
       "31           Domenico Celi                  Maurizio Sarri   \n",
       "32         Gianluca Rocchi                 Roberto Mancini   \n",
       "33        Andrea Gervasoni                  Maurizio Sarri   \n",
       "34          Daniele Orsato               Luciano Spalletti   \n",
       "35        Piero Giacomelli                  Maurizio Sarri   \n",
       "36          Antonio Damato            Gian Piero Ventura\\t   \n",
       "37           Domenico Celi                  Maurizio Sarri   \n",
       "\n",
       "                     away_managers  home_play result  \n",
       "0                   Maurizio Sarri      False   Lose  \n",
       "1                     Walter Zenga       True   Draw  \n",
       "2                   Maurizio Sarri      False   Draw  \n",
       "3                    Stefano Pioli       True    Win  \n",
       "4                   Maurizio Sarri      False   Draw  \n",
       "5             Massimiliano Allegri       True    Win  \n",
       "6                   Maurizio Sarri      False    Win  \n",
       "7   Paulo Manuel Carvalho de Sousa       True    Win  \n",
       "8                   Maurizio Sarri      False    Win  \n",
       "9                 Giuseppe Iachini       True    Win  \n",
       "10                  Maurizio Sarri      False   Draw  \n",
       "11              Stefano Colantuono       True    Win  \n",
       "12                  Maurizio Sarri      False    Win  \n",
       "13                 Roberto Mancini       True    Win  \n",
       "14                  Maurizio Sarri      False   Lose  \n",
       "15                     Rudi Garcia       True   Draw  \n",
       "16                  Maurizio Sarri      False    Win  \n",
       "17            Gian Piero Ventura\\t       True    Win  \n",
       "18                  Maurizio Sarri      False    Win  \n",
       "19            Eusebio Di Francesco       True    Win  \n",
       "20                  Maurizio Sarri      False    Win  \n",
       "21                 Marco Giampaolo       True    Win  \n",
       "22                  Maurizio Sarri      False    Win  \n",
       "23                Fabrizio Castori       True    Win  \n",
       "24                  Maurizio Sarri      False   Lose  \n",
       "25               Siniša Mihajlović       True   Draw  \n",
       "26                  Maurizio Sarri      False   Draw  \n",
       "27                   Rolando Maran       True    Win  \n",
       "28                  Maurizio Sarri      False    Win  \n",
       "29            Gian Piero Gasperini       True    Win  \n",
       "30                  Maurizio Sarri      False   Lose  \n",
       "31                   Luigi Delneri       True    Win  \n",
       "32                  Maurizio Sarri      False   Lose  \n",
       "33                Roberto Donadoni       True    Win  \n",
       "34                  Maurizio Sarri      False   Lose  \n",
       "35                    Edoardo Reja       True    Win  \n",
       "36                  Maurizio Sarri      False    Win  \n",
       "37                Roberto Stellone       True    Win  "
      ]
     },
     "execution_count": 5,
     "metadata": {},
     "output_type": "execute_result"
    }
   ],
   "source": [
    "matches_napoli_filtered['home_play'] = matches_napoli_filtered['home_team'] == 'Napoli'\n",
    "matches_napoli_filtered['result'] = np.where(\n",
    "    matches_napoli_filtered['home_play'], \n",
    "    matches_napoli_filtered['home_score'] - matches_napoli_filtered['away_score'],  # If Napoli played at home\n",
    "    matches_napoli_filtered['away_score'] - matches_napoli_filtered['home_score']   # If Napoli played away\n",
    ")\n",
    "matches_napoli_filtered['result'] = np.where(\n",
    "    matches_napoli_filtered['result'] > 0,  # Napoli won\n",
    "    \"Win\",\n",
    "    np.where(\n",
    "        matches_napoli_filtered['result'] == 0,  # Draw\n",
    "        \"Draw\",\n",
    "        \"Lose\"  # Napoli lost\n",
    "    )\n",
    ")\n",
    "matches_napoli_filtered "
   ]
  },
  {
   "cell_type": "code",
   "execution_count": 339,
   "metadata": {},
   "outputs": [],
   "source": [
    "matcheeee = matches_napoli_filtered['match_week'].unique()"
   ]
  },
  {
   "cell_type": "code",
   "execution_count": 43,
   "metadata": {},
   "outputs": [],
   "source": [
    "matches_napoli_filtered.to_csv('Sources/matches_napoli_filtered.csv')"
   ]
  },
  {
   "cell_type": "code",
   "execution_count": 7,
   "metadata": {},
   "outputs": [
    {
     "data": {
      "text/plain": [
       "result\n",
       "Win     25\n",
       "Draw     7\n",
       "Lose     6\n",
       "Name: count, dtype: int64"
      ]
     },
     "execution_count": 7,
     "metadata": {},
     "output_type": "execute_result"
    }
   ],
   "source": [
    "# Count the number of occurrences for each result\n",
    "results = matches_napoli_filtered['result'].value_counts()\n",
    "results"
   ]
  },
  {
   "cell_type": "code",
   "execution_count": 9,
   "metadata": {},
   "outputs": [
    {
     "name": "stdout",
     "output_type": "stream",
     "text": [
      "Home Wins count: 16\n",
      "Away Wins count: 9\n",
      "Home Losses count: 0\n",
      "Away Losses count: 6\n",
      "Home Draws count: 3\n",
      "Away Draws count: 4\n"
     ]
    }
   ],
   "source": [
    "home_wins = matches_napoli_filtered[(matches_napoli_filtered['home_play'] == True) & (matches_napoli_filtered['result'] == 'Win')]\n",
    "print(\"Home Wins count:\",home_wins.__len__())\n",
    "away_wins = matches_napoli_filtered[(matches_napoli_filtered['home_play'] == False) & (matches_napoli_filtered['result'] == 'Win')]\n",
    "print(\"Away Wins count:\",away_wins.__len__())\n",
    "home_losses = matches_napoli_filtered[(matches_napoli_filtered['home_play'] == True) & (matches_napoli_filtered['result'] == 'Lose')]\n",
    "print(\"Home Losses count:\",home_losses.__len__())\n",
    "away_losses = matches_napoli_filtered[(matches_napoli_filtered['home_play'] == False) & (matches_napoli_filtered['result'] == 'Lose')]\n",
    "print(\"Away Losses count:\",away_losses.__len__())\n",
    "home_draws = matches_napoli_filtered[(matches_napoli_filtered['home_play'] == True) & (matches_napoli_filtered['result'] == 'Draw')]\n",
    "print(\"Home Draws count:\",home_draws.__len__())\n",
    "away_draws = matches_napoli_filtered[(matches_napoli_filtered['home_play'] == False) & (matches_napoli_filtered['result'] == 'Draw')]\n",
    "print(\"Away Draws count:\",away_draws.__len__())"
   ]
  },
  {
   "cell_type": "markdown",
   "metadata": {},
   "source": [
    "# Team Analysis"
   ]
  },
  {
   "cell_type": "code",
   "execution_count": 10,
   "metadata": {},
   "outputs": [],
   "source": [
    "data = {\n",
    "    'home_wins': [home_wins.__len__()],\n",
    "    'away_wins': [away_wins.__len__()],\n",
    "    'home_losses': [home_losses.__len__()],\n",
    "    'away_losses': [away_losses.__len__()],\n",
    "    'home_draws': [home_draws.__len__()],\n",
    "    'away_draws': [away_draws.__len__()],\n",
    "    'total_wins': [home_wins.__len__() + away_wins.__len__()],\n",
    "    'total_losses': [home_losses.__len__() + away_losses.__len__()],\n",
    "    'total_draws': [home_draws.__len__() + away_draws.__len__()]\n",
    "}"
   ]
  },
  {
   "cell_type": "code",
   "execution_count": 11,
   "metadata": {},
   "outputs": [],
   "source": [
    "napoli_performances = pd.DataFrame(data)\n",
    "home_game = matches_napoli_filtered[matches_napoli_filtered['home_play'] == True]\n",
    "away_game = matches_napoli_filtered[matches_napoli_filtered['home_play'] == False]\n",
    "\n",
    "napoli_performances['goals_made'] = [home_game['home_score'].sum() + away_game['away_score'].sum()]\n",
    "napoli_performances['goals_conceded'] = [home_game['away_score'].sum() + away_game['home_score'].sum()]\n",
    "napoli_performances['goal_difference'] = [napoli_performances['goals_made'][0] - napoli_performances['goals_conceded'][0]]"
   ]
  },
  {
   "cell_type": "markdown",
   "metadata": {},
   "source": [
    "# Events analysis"
   ]
  },
  {
   "cell_type": "code",
   "execution_count": 12,
   "metadata": {},
   "outputs": [
    {
     "name": "stderr",
     "output_type": "stream",
     "text": [
      "c:\\Python311\\Lib\\site-packages\\statsbombpy\\api_client.py:21: NoAuthWarning: credentials were not supplied. open data access only\n",
      "  warnings.warn(\n"
     ]
    }
   ],
   "source": [
    "# Assume matches_napoli_filtered[\"match_id\"].unique() contains the match IDs\n",
    "match_ids = matches_napoli_filtered[\"match_id\"].unique()\n",
    "\n",
    "# Initialize an empty list to store the event data for each match\n",
    "events_napoli = []\n",
    "\n",
    "# Loop through each match_id and fetch events\n",
    "for match_id in match_ids:\n",
    "    events = sb.events(match_id=match_id)  # Fetch events for each match\n",
    "    events_napoli.append(events)  # Append the events data to the list\n",
    "\n",
    "# Combine all events into a single DataFrame\n",
    "events_napoli = pd.concat(events_napoli, ignore_index=True)\n",
    "\n",
    "# Display the final DataFrame containing events for all Napoli matches"
   ]
  },
  {
   "cell_type": "code",
   "execution_count": 13,
   "metadata": {},
   "outputs": [
    {
     "data": {
      "text/plain": [
       "array(['Starting XI', 'Half Start', 'Pass', 'Ball Receipt*', 'Carry',\n",
       "       'Duel', 'Clearance', 'Pressure', 'Interception', 'Miscontrol',\n",
       "       'Shot', 'Block', 'Goal Keeper', 'Ball Recovery', 'Foul Committed',\n",
       "       'Foul Won', 'Dribbled Past', 'Dribble', 'Dispossessed', 'Shield',\n",
       "       '50/50', 'Half End', 'Injury Stoppage', 'Player Off',\n",
       "       'Substitution', 'Player On', 'Tactical Shift', 'Offside',\n",
       "       'Referee Ball-Drop', 'Error', 'Bad Behaviour', 'Own Goal For',\n",
       "       'Own Goal Against'], dtype=object)"
      ]
     },
     "execution_count": 13,
     "metadata": {},
     "output_type": "execute_result"
    }
   ],
   "source": [
    "events_napoli['type'].unique()"
   ]
  },
  {
   "cell_type": "code",
   "execution_count": 14,
   "metadata": {},
   "outputs": [],
   "source": [
    "index_to_drop = events_napoli[events_napoli['type'].isin(['50/50', 'Half Start', 'Half End', 'Injury Stoppage', 'Player Off', 'Substitution', 'Player On', 'Tactical Shift', 'Referee Ball-Drop', 'Own Goal For', 'Own Goal Against'])].index\n",
    "events_napoli.drop(index_to_drop, inplace=True)"
   ]
  },
  {
   "cell_type": "code",
   "execution_count": 15,
   "metadata": {},
   "outputs": [
    {
     "data": {
      "text/plain": [
       "array(['Starting XI', 'Pass', 'Ball Receipt*', 'Carry', 'Duel',\n",
       "       'Clearance', 'Pressure', 'Interception', 'Miscontrol', 'Shot',\n",
       "       'Block', 'Goal Keeper', 'Ball Recovery', 'Foul Committed',\n",
       "       'Foul Won', 'Dribbled Past', 'Dribble', 'Dispossessed', 'Shield',\n",
       "       'Offside', 'Error', 'Bad Behaviour'], dtype=object)"
      ]
     },
     "execution_count": 15,
     "metadata": {},
     "output_type": "execute_result"
    }
   ],
   "source": [
    "events_napoli['type'].unique()"
   ]
  },
  {
   "cell_type": "markdown",
   "metadata": {},
   "source": [
    "# Passes Analysis"
   ]
  },
  {
   "cell_type": "markdown",
   "metadata": {},
   "source": [
    "## Analysis"
   ]
  },
  {
   "cell_type": "code",
   "execution_count": 174,
   "metadata": {},
   "outputs": [
    {
     "data": {
      "text/plain": [
       "<Axes: title={'center': 'Number of Passes made by Napoli players'}, xlabel='player'>"
      ]
     },
     "execution_count": 174,
     "metadata": {},
     "output_type": "execute_result"
    },
    {
     "data": {
      "image/png": "[encoded data removed]",
      "text/plain": [
       "<Figure size 1000x700 with 1 Axes>"
      ]
     },
     "metadata": {},
     "output_type": "display_data"
    }
   ],
   "source": [
    "passes = events_napoli[events_napoli['type'] == 'Pass'].dropna(axis=1, how='all')\n",
    "passes_napoli = passes[passes['team'] == 'Napoli']\n",
    "plt.figure(figsize=(10, 7))\n",
    "plt.title('Number of Passes made by Napoli players')\n",
    "passes_napoli['player'].value_counts().plot(kind='bar')"
   ]
  },
  {
   "cell_type": "code",
   "execution_count": 175,
   "metadata": {},
   "outputs": [
    {
     "data": {
      "text/plain": [
       "pass_goal_assist\n",
       "True    55\n",
       "Name: count, dtype: int64"
      ]
     },
     "execution_count": 175,
     "metadata": {},
     "output_type": "execute_result"
    }
   ],
   "source": [
    "passes_napoli['pass_goal_assist'].value_counts()"
   ]
  },
  {
   "cell_type": "code",
   "execution_count": 176,
   "metadata": {},
   "outputs": [
    {
     "name": "stdout",
     "output_type": "stream",
     "text": [
      "Number of passes leading to a goal or assist:\n"
     ]
    },
    {
     "data": {
      "text/plain": [
       "player\n",
       "Marek Hamšík                 11\n",
       "Lorenzo Insigne              10\n",
       "José María Callejón Bueno     6\n",
       "Allan Marques Loureiro        5\n",
       "Dries Mertens                 5\n",
       "Jorge Luiz Frello Filho       4\n",
       "Faouzi Ghoulam                3\n",
       "Manolo Gabbiadini             3\n",
       "Elseid Hysaj                  2\n",
       "Gonzalo Gerardo Higuaín       2\n",
       "Omar El Kaddouri              2\n",
       "David López Silva             1\n",
       "Raúl Albiol i Tortajada       1\n",
       "Name: pass_goal_assist, dtype: int64"
      ]
     },
     "execution_count": 176,
     "metadata": {},
     "output_type": "execute_result"
    }
   ],
   "source": [
    "print(\"Number of passes leading to a goal or assist:\")\n",
    "players_assists = passes_napoli[passes_napoli['pass_goal_assist'] == True].groupby('player')['pass_goal_assist'].count().sort_values(ascending=False)\n",
    "players_assists"
   ]
  },
  {
   "cell_type": "code",
   "execution_count": 177,
   "metadata": {
    "vscode": {
     "languageId": "markdown"
    }
   },
   "outputs": [
    {
     "name": "stdout",
     "output_type": "stream",
     "text": [
      "Number of passes leading to a shot:\n"
     ]
    },
    {
     "data": {
      "text/plain": [
       "player\n",
       "Marek Hamšík                 81\n",
       "Jorge Luiz Frello Filho      63\n",
       "Lorenzo Insigne              58\n",
       "Gonzalo Gerardo Higuaín      47\n",
       "José María Callejón Bueno    40\n",
       "Allan Marques Loureiro       35\n",
       "Faouzi Ghoulam               28\n",
       "Dries Mertens                26\n",
       "Elseid Hysaj                 24\n",
       "Mirko Valdifiori             12\n",
       "Manolo Gabbiadini            10\n",
       "Kalidou Koulibaly             9\n",
       "Omar El Kaddouri              7\n",
       "David López Silva             6\n",
       "Raúl Albiol i Tortajada       4\n",
       "Christian Maggio              2\n",
       "Nathaniel Chalobah            2\n",
       "Ivan Strinić                  1\n",
       "José Manuel Reina Páez        1\n",
       "Name: pass_shot_assist, dtype: int64"
      ]
     },
     "execution_count": 177,
     "metadata": {},
     "output_type": "execute_result"
    }
   ],
   "source": [
    "print(\"Number of passes leading to a shot:\")\n",
    "passes_to_shot = passes_napoli[passes_napoli['pass_shot_assist'] == True].groupby('player')['pass_shot_assist'].count().sort_values(ascending=False)\n",
    "passes_to_shot"
   ]
  },
  {
   "cell_type": "markdown",
   "metadata": {},
   "source": [
    "## Predicting probability of a pass to be an assist"
   ]
  },
  {
   "cell_type": "markdown",
   "metadata": {},
   "source": [
    "Find useful features to make the prediction"
   ]
  },
  {
   "cell_type": "code",
   "execution_count": 199,
   "metadata": {},
   "outputs": [],
   "source": [
    "#deleting not useful features\n",
    "passes_napoli_filtered = passes_napoli.drop(columns=['id', 'index', 'period', 'timestamp', 'minute', 'second', 'possession', 'possession_team', 'play_pattern', 'team', 'duration', 'related_events', 'pass_recipient_id', 'pass_recipient', 'off_camera', 'match_id', 'pass_assisted_shot_id', 'player_id', 'possession_team_id', 'team_id', 'type', 'pass_outcome', 'pass_straight'])"
   ]
  },
  {
   "cell_type": "code",
   "execution_count": 200,
   "metadata": {},
   "outputs": [],
   "source": [
    "passes_napoli_filtered.to_csv('Sources/passes_napoli.csv')"
   ]
  },
  {
   "cell_type": "markdown",
   "metadata": {},
   "source": [
    "### Data Type Format Fix in order to fit ML algorithms"
   ]
  },
  {
   "cell_type": "markdown",
   "metadata": {},
   "source": [
    "**LIST OF VALUES**"
   ]
  },
  {
   "cell_type": "code",
   "execution_count": 180,
   "metadata": {},
   "outputs": [],
   "source": [
    "passes_napoli_filtered[['x_start', 'y_start']] = pd.DataFrame(passes_napoli_filtered['location'].apply(lambda loc: eval(loc) if isinstance(loc, str) else loc).tolist(), index=passes_napoli_filtered.index)\n",
    "passes_napoli_filtered = passes_napoli_filtered.drop('location', axis=1)\n",
    "passes_napoli_filtered[['x_end', 'y_end']] = pd.DataFrame(passes_napoli_filtered['pass_end_location'].apply(lambda loc: eval(loc) if isinstance(loc, str) else loc).tolist(), index=passes_napoli_filtered.index)\n",
    "passes_napoli_filtered = passes_napoli_filtered.drop('pass_end_location', axis=1)"
   ]
  },
  {
   "cell_type": "markdown",
   "metadata": {},
   "source": [
    "**STRINGS**"
   ]
  },
  {
   "cell_type": "code",
   "execution_count": 181,
   "metadata": {},
   "outputs": [],
   "source": [
    "# Get unique values in 'pass_body_part' column\n",
    "unique_body_parts = passes_napoli_filtered['pass_body_part'].unique()\n",
    "\n",
    "# Create a mapping of unique body parts to float values\n",
    "mapping = {part: i for i, part in enumerate(unique_body_parts)}\n",
    "\n",
    "# Replace the original string values with their mapped float values\n",
    "passes_napoli_filtered['pass_body_part_float'] = passes_napoli_filtered['pass_body_part'].map(mapping)\n",
    "passes_napoli_filtered = passes_napoli_filtered.drop('pass_body_part', axis=1)\n"
   ]
  },
  {
   "cell_type": "code",
   "execution_count": 182,
   "metadata": {},
   "outputs": [],
   "source": [
    "# Get unique values in 'pass_type' column\n",
    "unique_pass_type = passes_napoli_filtered['pass_type'].unique()\n",
    "\n",
    "# Create a mapping of unique pass type to float values\n",
    "mapping = {part: i for i, part in enumerate(unique_pass_type)}\n",
    "\n",
    "# Replace the original string values with their mapped float values\n",
    "passes_napoli_filtered['pass_type_float'] = passes_napoli_filtered['pass_type'].map(mapping)\n",
    "passes_napoli_filtered = passes_napoli_filtered.drop('pass_type', axis=1)\n"
   ]
  },
  {
   "cell_type": "code",
   "execution_count": 183,
   "metadata": {},
   "outputs": [],
   "source": [
    "# Get unique values in 'pass_height' column\n",
    "unique_pass_height = passes_napoli_filtered['pass_height'].unique()\n",
    "\n",
    "# Create a mapping of unique pass height to float values\n",
    "mapping = {part: i for i, part in enumerate(unique_pass_height)}\n",
    "\n",
    "# Replace the original string values with their mapped float values\n",
    "passes_napoli_filtered['pass_height_float'] = passes_napoli_filtered['pass_height'].map(mapping)\n",
    "passes_napoli_filtered = passes_napoli_filtered.drop('pass_height', axis=1)\n"
   ]
  },
  {
   "cell_type": "code",
   "execution_count": 184,
   "metadata": {},
   "outputs": [],
   "source": [
    "# Get unique values in 'pass_technique' column\n",
    "unique_pass_height = passes_napoli_filtered['pass_technique'].unique()\n",
    "\n",
    "# Create a mapping of unique pass height to float values\n",
    "mapping = {part: i for i, part in enumerate(unique_pass_height)}\n",
    "\n",
    "# Replace the original string values with their mapped float values\n",
    "passes_napoli_filtered['pass_technique_float'] = passes_napoli_filtered['pass_technique'].map(mapping)\n",
    "passes_napoli_filtered = passes_napoli_filtered.drop('pass_technique', axis=1)\n"
   ]
  },
  {
   "cell_type": "code",
   "execution_count": 185,
   "metadata": {},
   "outputs": [],
   "source": [
    "# Get unique values in 'position' column\n",
    "unique_position = passes_napoli_filtered['position'].unique()\n",
    "\n",
    "# Create a mapping of unique pass height to float values\n",
    "mapping = {part: i for i, part in enumerate(unique_position)}\n",
    "\n",
    "# Replace the original string values with their mapped float values\n",
    "passes_napoli_filtered['position_float'] = passes_napoli_filtered['position'].map(mapping)\n",
    "passes_napoli_filtered = passes_napoli_filtered.drop('position', axis=1)\n"
   ]
  },
  {
   "cell_type": "markdown",
   "metadata": {},
   "source": [
    "### ML Models "
   ]
  },
  {
   "cell_type": "code",
   "execution_count": 186,
   "metadata": {},
   "outputs": [],
   "source": [
    "only_assist_df = passes_napoli_filtered[passes_napoli_filtered[\"pass_goal_assist\"] == True].drop(columns=\"pass_goal_assist\")\n",
    "\n",
    "# Select columns with object dtype\n",
    "object_columns = passes_napoli_filtered.select_dtypes(include='object').columns"
   ]
  },
  {
   "cell_type": "code",
   "execution_count": 187,
   "metadata": {},
   "outputs": [],
   "source": [
    "only_assist_df = passes_napoli_filtered[passes_napoli_filtered[\"pass_goal_assist\"] == True].drop(columns=\"pass_goal_assist\")\n",
    "\n",
    "# Select columns with object dtype\n",
    "object_columns = passes_napoli_filtered.select_dtypes(include='object').columns\n",
    "\n",
    "# Replace values in object columns\n",
    "passes_napoli_filtered[object_columns] = passes_napoli_filtered[object_columns].fillna(False)\n",
    "\n",
    "passes_napoli_filtered[object_columns] = passes_napoli_filtered[object_columns].astype('bool')"
   ]
  },
  {
   "cell_type": "code",
   "execution_count": 188,
   "metadata": {},
   "outputs": [],
   "source": [
    "X = passes_napoli_filtered.drop(columns=['pass_goal_assist'])\n",
    "y = passes_napoli_filtered['pass_goal_assist']\n",
    "\n",
    "X_train, X_test, y_train, y_test = train_test_split(X, y, test_size=0.2, random_state=42)"
   ]
  },
  {
   "cell_type": "code",
   "execution_count": 189,
   "metadata": {},
   "outputs": [
    {
     "name": "stdout",
     "output_type": "stream",
     "text": [
      "Entropy Criterion Model Score 0.9975845410628019\n",
      "Gini Index Criterion Model Score 0.9975845410628019\n",
      "Log Loss criterion Model Score: 0.9975845410628019\n"
     ]
    }
   ],
   "source": [
    "model_entr = RandomForestClassifier(criterion='entropy')\n",
    "model_entr.fit(X_train, y_train)\n",
    "print(\"Entropy Criterion Model Score\", model_entr.score(X_test, y_test))\n",
    "# Get feature importances using entropoy criterion\n",
    "importances_entropy = model_entr.feature_importances_\n",
    "model_gini = RandomForestClassifier(criterion='gini')\n",
    "model_gini.fit(X_train, y_train)\n",
    "print(\"Gini Index Criterion Model Score\", model_gini.score(X_test, y_test))\n",
    "# Get feature importances using gini criterion\n",
    "importances_gini = model_gini.feature_importances_\n",
    "model_logloss = RandomForestClassifier(criterion='log_loss')\n",
    "model_logloss.fit(X_train, y_train)\n",
    "print(\"Log Loss criterion Model Score:\", model_logloss.score(X_test, y_test))\n",
    "# Get feature importances using log_loss criterion\n",
    "importances_log_loss = model_logloss.feature_importances_"
   ]
  },
  {
   "cell_type": "code",
   "execution_count": 190,
   "metadata": {},
   "outputs": [
    {
     "name": "stdout",
     "output_type": "stream",
     "text": [
      "Accuracy only on Assist Entropy Criterion 0.7636363636363637\n",
      "ROC-AUC Score: 0.7801839620614066\n",
      "Log Loss: 0.04085303083792999\n"
     ]
    }
   ],
   "source": [
    "pred = model_entr.predict(only_assist_df)\n",
    "print(\"Accuracy only on Assist Entropy Criterion\", pred.sum()/pred.__len__())\n",
    "\n",
    "# Predict probabilities for the test set\n",
    "y_prob_entr = model_entr.predict_proba(X_test)[:, 1]  # Get the probability for the 'assist' class (class 1)\n",
    "\n",
    "# Evaluate the model using ROC-AUC and Log Loss\n",
    "roc_auc = roc_auc_score(y_test, y_prob_entr)\n",
    "logloss = log_loss(y_test, y_prob_entr)\n",
    "\n",
    "print(f\"ROC-AUC Score: {roc_auc}\")\n",
    "print(f\"Log Loss: {logloss}\")"
   ]
  },
  {
   "cell_type": "code",
   "execution_count": 191,
   "metadata": {},
   "outputs": [
    {
     "data": {
      "image/png": "[encoded data removed]",
      "text/plain": [
       "<Figure size 640x480 with 2 Axes>"
      ]
     },
     "metadata": {},
     "output_type": "display_data"
    }
   ],
   "source": [
    "y_pred_entr = model_entr.predict(X_test)\n",
    "\n",
    "cm_entr = confusion_matrix(y_test, y_pred_entr)\n",
    "\n",
    "# Optionally, visualize the confusion matrix using ConfusionMatrixDisplay\n",
    "disp = ConfusionMatrixDisplay(confusion_matrix=cm_entr, display_labels=model_entr.classes_)\n",
    "disp.plot(cmap=plt.cm.Blues)\n",
    "plt.title('Confusion Matrix Entropy Criterion')\n",
    "plt.show()"
   ]
  },
  {
   "cell_type": "code",
   "execution_count": 192,
   "metadata": {},
   "outputs": [
    {
     "name": "stdout",
     "output_type": "stream",
     "text": [
      "XGB Model Score: 0.9975845410628019\n"
     ]
    }
   ],
   "source": [
    "model_xgb = XGBClassifier(random_state=42)\n",
    "model_xgb.fit(X_train, y_train)\n",
    "\n",
    "print(\"XGB Model Score:\", model_xgb.score(X_test, y_test))\n",
    "\n",
    "importances_xgb = model_xgb.feature_importances_"
   ]
  },
  {
   "cell_type": "code",
   "execution_count": 193,
   "metadata": {},
   "outputs": [
    {
     "name": "stdout",
     "output_type": "stream",
     "text": [
      "ROC-AUC Score: 0.8783042251099618\n",
      "Log Loss: 0.017103344095776463\n"
     ]
    }
   ],
   "source": [
    "# Predict probabilities for the test set\n",
    "y_prob_xgb = model_xgb.predict_proba(X_test)[:, 1]  # Get the probability for the 'assist' class (class 1)\n",
    "\n",
    "# Evaluate the model using ROC-AUC and Log Loss\n",
    "roc_auc = roc_auc_score(y_test, y_prob_xgb)\n",
    "logloss = log_loss(y_test, y_prob_xgb)\n",
    "\n",
    "print(f\"ROC-AUC Score: {roc_auc}\")\n",
    "print(f\"Log Loss: {logloss}\")"
   ]
  },
  {
   "cell_type": "markdown",
   "metadata": {},
   "source": [
    "ROC-AUC and Log Loss value are way better for the XGBoost model"
   ]
  },
  {
   "cell_type": "code",
   "execution_count": 194,
   "metadata": {},
   "outputs": [
    {
     "data": {
      "image/png": "[encoded data removed]",
      "text/plain": [
       "<Figure size 640x480 with 2 Axes>"
      ]
     },
     "metadata": {},
     "output_type": "display_data"
    }
   ],
   "source": [
    "y_pred_xgb = model_entr.predict(X_test)\n",
    "\n",
    "cm_xgb = confusion_matrix(y_test, y_pred_xgb)\n",
    "\n",
    "# Optionally, visualize the confusion matrix using ConfusionMatrixDisplay\n",
    "disp = ConfusionMatrixDisplay(confusion_matrix=cm_xgb, display_labels=model_xgb.classes_)\n",
    "disp.plot(cmap=plt.cm.Blues)\n",
    "plt.title('Confusion Matrix Entropy Criterion')\n",
    "plt.show()"
   ]
  },
  {
   "cell_type": "code",
   "execution_count": 195,
   "metadata": {},
   "outputs": [
    {
     "data": {
      "text/plain": [
       "<Figure size 1000x1000 with 0 Axes>"
      ]
     },
     "metadata": {},
     "output_type": "display_data"
    },
    {
     "data": {
      "image/png": "[encoded data removed]",
      "text/plain": [
       "<Figure size 1200x800 with 1 Axes>"
      ]
     },
     "metadata": {},
     "output_type": "display_data"
    }
   ],
   "source": [
    "importances_mean = np.mean([importances_entropy, importances_gini, importances_log_loss, importances_xgb], axis=0)\n",
    "\n",
    "feature_names = X.columns\n",
    "importance_df = pd.DataFrame({\n",
    "    'Feature': feature_names,\n",
    "    'Gini Importance': importances_gini,\n",
    "    'Entropy Importance': importances_entropy,\n",
    "    'Log Loss Importance': importances_log_loss,\n",
    "    'XGB Importance': importances_xgb\n",
    "})\n",
    "\n",
    "# Calculate the average importance across the three criteria\n",
    "importance_df['Average Importance'] = importance_df[['Gini Importance', 'Entropy Importance', 'Log Loss Importance', 'XGB Importance']].mean(axis=1)\n",
    "\n",
    "importance_df = importance_df.sort_values('Average Importance', ascending=False)\n",
    "\n",
    "# Plot the feature importances for all criteria and the average\n",
    "plt.figure(figsize=(10, 10))\n",
    "importance_df.plot(x='Feature', y=['Gini Importance', 'Entropy Importance', 'Log Loss Importance', 'XGB Importance', 'Average Importance'], kind='barh', figsize=(12, 8))\n",
    "plt.title('Feature Importance Comparison: Gini, Entropy, Log Loss, XGBoost, and Average')\n",
    "plt.xlabel('Importance')\n",
    "plt.ylabel('Feature')\n",
    "plt.show()"
   ]
  },
  {
   "cell_type": "markdown",
   "metadata": {},
   "source": [
    "**Predicted probability of Assist will be used as Expected Assist(xA) from a pass**"
   ]
  },
  {
   "cell_type": "code",
   "execution_count": 196,
   "metadata": {},
   "outputs": [
    {
     "name": "stderr",
     "output_type": "stream",
     "text": [
      "C:\\Users\\gekth\\AppData\\Local\\Temp\\ipykernel_29628\\966874305.py:1: SettingWithCopyWarning: \n",
      "A value is trying to be set on a copy of a slice from a DataFrame.\n",
      "Try using .loc[row_indexer,col_indexer] = value instead\n",
      "\n",
      "See the caveats in the documentation: https://pandas.pydata.org/pandas-docs/stable/user_guide/indexing.html#returning-a-view-versus-a-copy\n",
      "  passes_napoli['xA'] = model_xgb.predict_proba(X)[:, 1]\n"
     ]
    }
   ],
   "source": [
    "passes_napoli['xA'] = model_xgb.predict_proba(X)[:, 1]"
   ]
  },
  {
   "cell_type": "code",
   "execution_count": 197,
   "metadata": {},
   "outputs": [
    {
     "name": "stdout",
     "output_type": "stream",
     "text": [
      "Top players by Expected Assists:\n"
     ]
    },
    {
     "data": {
      "text/plain": [
       "player\n",
       "Marek Hamšík                   8.386888\n",
       "Lorenzo Insigne                8.058965\n",
       "Allan Marques Loureiro         5.057558\n",
       "Jorge Luiz Frello Filho        4.457499\n",
       "José María Callejón Bueno      4.009930\n",
       "Dries Mertens                  3.410864\n",
       "Gonzalo Gerardo Higuaín        2.399893\n",
       "Faouzi Ghoulam                 2.074198\n",
       "Elseid Hysaj                   2.051194\n",
       "Manolo Gabbiadini              1.822027\n",
       "David López Silva              1.026265\n",
       "Raúl Albiol i Tortajada        0.991957\n",
       "Omar El Kaddouri               0.896727\n",
       "Mirko Valdifiori               0.202675\n",
       "Kalidou Koulibaly              0.110876\n",
       "José Manuel Reina Páez         0.062138\n",
       "Ivan Strinić                   0.033660\n",
       "Vlad Iulian Chiricheș          0.022229\n",
       "Christian Maggio               0.019105\n",
       "Nathaniel Chalobah             0.000491\n",
       "Gabriel Vasconelos Ferreira    0.000298\n",
       "Vasco Regini                   0.000013\n",
       "Name: xA, dtype: float32"
      ]
     },
     "execution_count": 197,
     "metadata": {},
     "output_type": "execute_result"
    }
   ],
   "source": [
    "print(\"Top players by Expected Assists:\")\n",
    "players_xA = passes_napoli.groupby('player')['xA'].sum().sort_values(ascending=False)\n",
    "players_xA"
   ]
  },
  {
   "cell_type": "code",
   "execution_count": 198,
   "metadata": {},
   "outputs": [
    {
     "name": "stdout",
     "output_type": "stream",
     "text": [
      "Top players by Expected Assists - Actual Assists:\n"
     ]
    },
    {
     "data": {
      "text/plain": [
       "player\n",
       "Jorge Luiz Frello Filho      0.457499\n",
       "Gonzalo Gerardo Higuaín      0.399893\n",
       "Allan Marques Loureiro       0.057558\n",
       "Elseid Hysaj                 0.051194\n",
       "David López Silva            0.026265\n",
       "Raúl Albiol i Tortajada     -0.008043\n",
       "Faouzi Ghoulam              -0.925802\n",
       "Omar El Kaddouri            -1.103273\n",
       "Manolo Gabbiadini           -1.177973\n",
       "Dries Mertens               -1.589136\n",
       "Lorenzo Insigne             -1.941035\n",
       "José María Callejón Bueno   -1.990070\n",
       "Marek Hamšík                -2.613112\n",
       "dtype: float64"
      ]
     },
     "execution_count": 198,
     "metadata": {},
     "output_type": "execute_result"
    }
   ],
   "source": [
    "print(\"Top players by Expected Assists - Actual Assists:\")\n",
    "(players_xA-players_assists).dropna().sort_values(ascending=False)"
   ]
  },
  {
   "cell_type": "markdown",
   "metadata": {},
   "source": [
    "# Shot Analysis"
   ]
  },
  {
   "cell_type": "markdown",
   "metadata": {},
   "source": [
    "## Analysis"
   ]
  },
  {
   "cell_type": "code",
   "execution_count": 281,
   "metadata": {},
   "outputs": [
    {
     "data": {
      "text/plain": [
       "<Axes: title={'center': 'Number of shots made by Napoli players'}, xlabel='player'>"
      ]
     },
     "execution_count": 281,
     "metadata": {},
     "output_type": "execute_result"
    },
    {
     "data": {
      "image/png": "[encoded data removed]",
      "text/plain": [
       "<Figure size 1000x500 with 1 Axes>"
      ]
     },
     "metadata": {},
     "output_type": "display_data"
    }
   ],
   "source": [
    "shots = events_napoli[events_napoli['type'] == 'Shot'].dropna(axis=1, how='all')\n",
    "shots_napoli = shots[shots['team'] == 'Napoli']\n",
    "plt.figure(figsize=(10, 5))\n",
    "plt.title('Number of shots made by Napoli players')\n",
    "players_shots = shots_napoli['player'].value_counts()\n",
    "players_shots.plot(kind='bar')"
   ]
  },
  {
   "cell_type": "code",
   "execution_count": 282,
   "metadata": {},
   "outputs": [],
   "source": [
    "napoli_performances['shots_made'] = players_shots.sum()"
   ]
  },
  {
   "cell_type": "code",
   "execution_count": 283,
   "metadata": {},
   "outputs": [
    {
     "data": {
      "text/plain": [
       "348"
      ]
     },
     "execution_count": 283,
     "metadata": {},
     "output_type": "execute_result"
    }
   ],
   "source": [
    "shots = events_napoli[events_napoli['type'] == 'Shot'].dropna(axis=1, how='all')\n",
    "shots_not_napoli = shots[shots['team'] != 'Napoli']\n",
    "players_nn_shots = shots_not_napoli['player'].count()\n",
    "players_nn_shots"
   ]
  },
  {
   "cell_type": "code",
   "execution_count": 284,
   "metadata": {},
   "outputs": [],
   "source": [
    "napoli_performances['shots_conceded'] = players_nn_shots"
   ]
  },
  {
   "cell_type": "code",
   "execution_count": 285,
   "metadata": {
    "vscode": {
     "languageId": "ruby"
    }
   },
   "outputs": [
    {
     "data": {
      "text/plain": [
       "shot_outcome\n",
       "Off T               239\n",
       "Saved               162\n",
       "Blocked             147\n",
       "Goal                 78\n",
       "Wayward              22\n",
       "Post                 11\n",
       "Saved to Post         4\n",
       "Saved Off Target      1\n",
       "Name: count, dtype: int64"
      ]
     },
     "execution_count": 285,
     "metadata": {},
     "output_type": "execute_result"
    }
   ],
   "source": [
    "shots_napoli['shot_outcome'].value_counts()"
   ]
  },
  {
   "cell_type": "code",
   "execution_count": 286,
   "metadata": {
    "vscode": {
     "languageId": "ruby"
    }
   },
   "outputs": [
    {
     "data": {
      "text/plain": [
       "<Axes: title={'center': 'Number of goals made by Napoli players'}, xlabel='player'>"
      ]
     },
     "execution_count": 286,
     "metadata": {},
     "output_type": "execute_result"
    },
    {
     "data": {
      "image/png": "[encoded data removed]",
      "text/plain": [
       "<Figure size 1000x500 with 1 Axes>"
      ]
     },
     "metadata": {},
     "output_type": "display_data"
    }
   ],
   "source": [
    "plt.figure(figsize=(10, 5))\n",
    "plt.title('Number of goals made by Napoli players')\n",
    "players_goals = shots_napoli[shots_napoli['shot_outcome'] == 'Goal'].groupby('player')['shot_outcome'].count().sort_values(ascending=False)\n",
    "players_goals.plot(kind='bar')"
   ]
  },
  {
   "cell_type": "code",
   "execution_count": 287,
   "metadata": {},
   "outputs": [
    {
     "name": "stdout",
     "output_type": "stream",
     "text": [
      "Player with the highest conversion rate:\n"
     ]
    },
    {
     "data": {
      "text/plain": [
       "player\n",
       "Vlad Iulian Chiricheș        0.200000\n",
       "Gonzalo Gerardo Higuaín      0.197802\n",
       "Manolo Gabbiadini            0.166667\n",
       "Raúl Albiol i Tortajada      0.111111\n",
       "José María Callejón Bueno    0.109375\n",
       "Allan Marques Loureiro       0.103448\n",
       "David López Silva            0.100000\n",
       "Dries Mertens                0.090909\n",
       "Omar El Kaddouri             0.090909\n",
       "Lorenzo Insigne              0.088889\n",
       "Marek Hamšík                 0.071429\n",
       "Name: count, dtype: float64"
      ]
     },
     "execution_count": 287,
     "metadata": {},
     "output_type": "execute_result"
    }
   ],
   "source": [
    "# Calculate the number of goals for each player\n",
    "goals_by_player = shots_napoli[shots_napoli['shot_outcome'] == 'Goal']['player'].value_counts()\n",
    "\n",
    "# Calculate the total number of shots for each player\n",
    "shots_by_player = shots_napoli['player'].value_counts()\n",
    "\n",
    "# Calculate the conversion rate for each player\n",
    "conversion_rate = goals_by_player / shots_by_player\n",
    "\n",
    "# Find the player with the highest conversion rate\n",
    "print(\"Player with the highest conversion rate:\")\n",
    "conversion_rate.sort_values(ascending=False).dropna()"
   ]
  },
  {
   "cell_type": "markdown",
   "metadata": {},
   "source": [
    "## Predicting probability of a shot to be a Goal"
   ]
  },
  {
   "cell_type": "markdown",
   "metadata": {},
   "source": [
    "Delete useless attributes"
   ]
  },
  {
   "cell_type": "code",
   "execution_count": 201,
   "metadata": {},
   "outputs": [],
   "source": [
    "#deleting not useful features\n",
    "shots_napoli_filtered = shots_napoli.drop(columns=['id', 'index', 'period', 'timestamp', 'minute', 'second', 'possession', 'possession_team', 'play_pattern', 'team', 'duration', 'related_events', 'shot_key_pass_id', 'off_camera', 'match_id', 'shot_statsbomb_xg', 'player_id', 'possession_team_id', 'team_id', 'type', 'shot_freeze_frame'])"
   ]
  },
  {
   "cell_type": "code",
   "execution_count": 202,
   "metadata": {},
   "outputs": [],
   "source": [
    "shots_napoli_filtered.to_csv('Sources/shots_napoli_filtered.csv')"
   ]
  },
  {
   "cell_type": "code",
   "execution_count": 203,
   "metadata": {},
   "outputs": [],
   "source": [
    "shots_napoli_filtered = shots_napoli_filtered.drop(columns='player')"
   ]
  },
  {
   "cell_type": "markdown",
   "metadata": {},
   "source": [
    "### Data Type Format Fix in order to fit ML algorithms"
   ]
  },
  {
   "cell_type": "markdown",
   "metadata": {},
   "source": [
    "**LIST OF VALUES**"
   ]
  },
  {
   "cell_type": "code",
   "execution_count": 55,
   "metadata": {},
   "outputs": [],
   "source": [
    "shots_napoli_filtered[['x_start', 'y_start']] = pd.DataFrame(shots_napoli_filtered['location'].apply(lambda loc: eval(loc) if isinstance(loc, str) else loc).tolist(), index=shots_napoli_filtered.index)\n",
    "shots_napoli_filtered = shots_napoli_filtered.drop('location', axis=1)\n",
    "shots_napoli_filtered[['x_end', 'y_end', 'height_end']] = pd.DataFrame(shots_napoli_filtered['shot_end_location'].apply(lambda loc: eval(loc) if isinstance(loc, str) else loc).tolist(), index=shots_napoli_filtered.index)\n",
    "shots_napoli_filtered = shots_napoli_filtered.drop('shot_end_location', axis=1)"
   ]
  },
  {
   "cell_type": "code",
   "execution_count": 56,
   "metadata": {},
   "outputs": [],
   "source": [
    "shots_napoli_filtered['height_end'] = shots_napoli_filtered['height_end'].fillna(0) "
   ]
  },
  {
   "cell_type": "markdown",
   "metadata": {},
   "source": [
    "**STRINGS**"
   ]
  },
  {
   "cell_type": "code",
   "execution_count": 57,
   "metadata": {},
   "outputs": [],
   "source": [
    "# Get unique values in 'position' column\n",
    "unique_position = shots_napoli_filtered['position'].unique()\n",
    "\n",
    "# Create a mapping of unique shot position to float values\n",
    "mapping = {part: i for i, part in enumerate(unique_position)}\n",
    "\n",
    "# Replace the original string values with their mapped float values\n",
    "shots_napoli_filtered['position_float'] = shots_napoli_filtered['position'].map(mapping)\n",
    "shots_napoli_filtered = shots_napoli_filtered.drop('position', axis=1)"
   ]
  },
  {
   "cell_type": "code",
   "execution_count": 58,
   "metadata": {},
   "outputs": [],
   "source": [
    "# Get unique values in 'shot_technique' column\n",
    "unique_shot_technique = shots_napoli_filtered['shot_technique'].unique()\n",
    "\n",
    "# Create a mapping of unique shot_technique to float values\n",
    "mapping = {part: i for i, part in enumerate(unique_shot_technique)}\n",
    "\n",
    "# Replace the original string values with their mapped float values\n",
    "shots_napoli_filtered['shot_technique_float'] = shots_napoli_filtered['shot_technique'].map(mapping)\n",
    "shots_napoli_filtered = shots_napoli_filtered.drop('shot_technique', axis=1)"
   ]
  },
  {
   "cell_type": "code",
   "execution_count": 59,
   "metadata": {},
   "outputs": [],
   "source": [
    "# Get unique values in 'shot_type' column\n",
    "unique_shot_type = shots_napoli_filtered['shot_type'].unique()\n",
    "\n",
    "# Create a mapping of unique shot_type to float values\n",
    "mapping = {part: i for i, part in enumerate(unique_shot_type)}\n",
    "\n",
    "# Replace the original string values with their mapped float values\n",
    "shots_napoli_filtered['shot_type_float'] = shots_napoli_filtered['shot_type'].map(mapping)\n",
    "shots_napoli_filtered = shots_napoli_filtered.drop('shot_type', axis=1)"
   ]
  },
  {
   "cell_type": "code",
   "execution_count": 60,
   "metadata": {},
   "outputs": [],
   "source": [
    "# Get unique values in 'shot_body_part' column\n",
    "unique_shot_body_part = shots_napoli_filtered['shot_body_part'].unique()\n",
    "\n",
    "# Create a mapping of unique shot_body_part to float values\n",
    "mapping = {part: i for i, part in enumerate(unique_shot_body_part)}\n",
    "\n",
    "# Replace the original string values with their mapped float values\n",
    "shots_napoli_filtered['shot_body_part_float'] = shots_napoli_filtered['shot_body_part'].map(mapping)\n",
    "shots_napoli_filtered = shots_napoli_filtered.drop('shot_body_part', axis=1)"
   ]
  },
  {
   "cell_type": "code",
   "execution_count": 61,
   "metadata": {},
   "outputs": [],
   "source": [
    "only_goals_df = shots_napoli_filtered[shots_napoli_filtered[\"shot_outcome\"] == 'Goal'].drop(columns=\"shot_outcome\")\n",
    "\n",
    "shots_napoli_filtered['is_goal'] = shots_napoli_filtered['shot_outcome'].map({'Goal': True, 'Saved': False, 'Off T': False, 'Post': False, 'Wayward': False, 'Blocked': False, 'Saved to Post': False, 'Saved Off Target': False, 'Goal Off Target': False})\n",
    "\n",
    "# Select columns with object dtype\n",
    "object_columns = shots_napoli_filtered.select_dtypes(include='object').columns\n",
    "\n",
    "# Replace values in object columns\n",
    "shots_napoli_filtered[object_columns] = shots_napoli_filtered[object_columns].fillna(False)\n",
    "\n",
    "shots_napoli_filtered[object_columns] = shots_napoli_filtered[object_columns].astype('bool')\n",
    "\n",
    "shots_napoli_filtered = shots_napoli_filtered.drop(columns=['shot_outcome'])"
   ]
  },
  {
   "cell_type": "markdown",
   "metadata": {},
   "source": [
    "## ML algortihms"
   ]
  },
  {
   "cell_type": "code",
   "execution_count": 63,
   "metadata": {},
   "outputs": [],
   "source": [
    "X = shots_napoli_filtered.drop(columns=['is_goal'])\n",
    "y = shots_napoli_filtered['is_goal']\n",
    "\n",
    "X_train, X_test, y_train, y_test = train_test_split(X, y, test_size=0.2, random_state=42)"
   ]
  },
  {
   "cell_type": "code",
   "execution_count": 64,
   "metadata": {},
   "outputs": [
    {
     "name": "stdout",
     "output_type": "stream",
     "text": [
      "Entropy Criterion Model Score 0.9849624060150376\n",
      "Gini Index Criterion Model Score 0.9849624060150376\n",
      "Log Loss criterion Model Score: 0.9774436090225563\n"
     ]
    }
   ],
   "source": [
    "model_entr = RandomForestClassifier(criterion='entropy')\n",
    "model_entr.fit(X_train, y_train)\n",
    "print(\"Entropy Criterion Model Score\", model_entr.score(X_test, y_test))\n",
    "# Get feature importances using entropoy criterion\n",
    "importances_entropy = model_entr.feature_importances_\n",
    "model_gini = RandomForestClassifier(criterion='gini')\n",
    "model_gini.fit(X_train, y_train)\n",
    "print(\"Gini Index Criterion Model Score\", model_gini.score(X_test, y_test))\n",
    "# Get feature importances using gini criterion\n",
    "importances_gini = model_gini.feature_importances_\n",
    "model_logloss = RandomForestClassifier(criterion='log_loss')\n",
    "model_logloss.fit(X_train, y_train)\n",
    "print(\"Log Loss criterion Model Score:\", model_logloss.score(X_test, y_test))\n",
    "# Get feature importances using log_loss criterion\n",
    "importances_log_loss = model_logloss.feature_importances_"
   ]
  },
  {
   "cell_type": "code",
   "execution_count": 65,
   "metadata": {},
   "outputs": [
    {
     "name": "stdout",
     "output_type": "stream",
     "text": [
      "Accuracy only on Goal Entropy Criterion 0.9743589743589743\n",
      "ROC-AUC Score: 0.9990766389658357\n",
      "Log Loss: 0.07993111032273052\n"
     ]
    }
   ],
   "source": [
    "pred = model_entr.predict(only_goals_df)\n",
    "print(\"Accuracy only on Goal Entropy Criterion\", pred.sum()/pred.__len__())\n",
    "\n",
    "# Predict probabilities for the test set\n",
    "y_prob_entr = model_entr.predict_proba(X_test)[:, 1]  # Get the probability for the 'assist' class (class 1)\n",
    "\n",
    "# Evaluate the model using ROC-AUC and Log Loss\n",
    "roc_auc = roc_auc_score(y_test, y_prob_entr)\n",
    "logloss = log_loss(y_test, y_prob_entr)\n",
    "\n",
    "print(f\"ROC-AUC Score: {roc_auc}\")\n",
    "print(f\"Log Loss: {logloss}\")"
   ]
  },
  {
   "cell_type": "code",
   "execution_count": 66,
   "metadata": {},
   "outputs": [
    {
     "data": {
      "image/png": "[encoded data removed]",
      "text/plain": [
       "<Figure size 640x480 with 2 Axes>"
      ]
     },
     "metadata": {},
     "output_type": "display_data"
    }
   ],
   "source": [
    "y_pred_entr = model_entr.predict(X_test)\n",
    "\n",
    "cm_entr = confusion_matrix(y_test, y_pred_entr)\n",
    "\n",
    "# Optionally, visualize the confusion matrix using ConfusionMatrixDisplay\n",
    "disp = ConfusionMatrixDisplay(confusion_matrix=cm_entr, display_labels=model_entr.classes_)\n",
    "disp.plot(cmap=plt.cm.Blues)\n",
    "plt.title('Confusion Matrix Entropy Criterion')\n",
    "plt.show()"
   ]
  },
  {
   "cell_type": "code",
   "execution_count": 67,
   "metadata": {},
   "outputs": [
    {
     "name": "stdout",
     "output_type": "stream",
     "text": [
      "XGB Model Score: 1.0\n"
     ]
    }
   ],
   "source": [
    "model_xgb = XGBClassifier(random_state=42)\n",
    "model_xgb.fit(X_train, y_train)\n",
    "\n",
    "print(\"XGB Model Score:\", model_xgb.score(X_test, y_test))\n",
    "\n",
    "importances_xgb = model_xgb.feature_importances_"
   ]
  },
  {
   "cell_type": "code",
   "execution_count": 68,
   "metadata": {},
   "outputs": [
    {
     "name": "stdout",
     "output_type": "stream",
     "text": [
      "ROC-AUC Score: 1.0\n",
      "Log Loss: 0.007178399550780603\n"
     ]
    }
   ],
   "source": [
    "# Predict probabilities for the test set\n",
    "y_prob_xgb = model_xgb.predict_proba(X_test)[:, 1]  # Get the probability for the 'assist' class (class 1)\n",
    "\n",
    "# Evaluate the model using ROC-AUC and Log Loss\n",
    "roc_auc = roc_auc_score(y_test, y_prob_xgb)\n",
    "logloss = log_loss(y_test, y_prob_xgb)\n",
    "\n",
    "print(f\"ROC-AUC Score: {roc_auc}\")\n",
    "print(f\"Log Loss: {logloss}\")"
   ]
  },
  {
   "cell_type": "code",
   "execution_count": 69,
   "metadata": {},
   "outputs": [
    {
     "data": {
      "image/png": "[encoded data removed]",
      "text/plain": [
       "<Figure size 640x480 with 2 Axes>"
      ]
     },
     "metadata": {},
     "output_type": "display_data"
    }
   ],
   "source": [
    "y_pred_xgb = model_entr.predict(X_test)\n",
    "\n",
    "cm_xgb = confusion_matrix(y_test, y_pred_xgb)\n",
    "\n",
    "# Optionally, visualize the confusion matrix using ConfusionMatrixDisplay\n",
    "disp = ConfusionMatrixDisplay(confusion_matrix=cm_xgb, display_labels=model_xgb.classes_)\n",
    "disp.plot(cmap=plt.cm.Blues)\n",
    "plt.title('Confusion Matrix Entropy Criterion')\n",
    "plt.show()"
   ]
  },
  {
   "cell_type": "code",
   "execution_count": 70,
   "metadata": {},
   "outputs": [
    {
     "data": {
      "text/plain": [
       "<Figure size 1000x1000 with 0 Axes>"
      ]
     },
     "metadata": {},
     "output_type": "display_data"
    },
    {
     "data": {
      "image/png": "[encoded data removed]",
      "text/plain": [
       "<Figure size 1200x800 with 1 Axes>"
      ]
     },
     "metadata": {},
     "output_type": "display_data"
    }
   ],
   "source": [
    "importances_mean = np.mean([importances_entropy, importances_gini, importances_log_loss, importances_xgb], axis=0)\n",
    "\n",
    "feature_names = X.columns\n",
    "importance_df = pd.DataFrame({\n",
    "    'Feature': feature_names,\n",
    "    'Gini Importance': importances_gini,\n",
    "    'Entropy Importance': importances_entropy,\n",
    "    'Log Loss Importance': importances_log_loss,\n",
    "    'XGB Importance': importances_xgb\n",
    "})\n",
    "\n",
    "# Calculate the average importance across the three criteria\n",
    "importance_df['Average Importance'] = importance_df[['Gini Importance', 'Entropy Importance', 'Log Loss Importance', 'XGB Importance']].mean(axis=1)\n",
    "\n",
    "importance_df = importance_df.sort_values('Average Importance', ascending=False)\n",
    "\n",
    "# Plot the feature importances for all criteria and the average\n",
    "plt.figure(figsize=(10, 10))\n",
    "importance_df.plot(x='Feature', y=['Gini Importance', 'Entropy Importance', 'Log Loss Importance', 'XGB Importance', 'Average Importance'], kind='barh', figsize=(12, 8))\n",
    "plt.title('Feature Importance Comparison: Gini, Entropy, Log Loss, XGBoost, and Average')\n",
    "plt.xlabel('Importance')\n",
    "plt.ylabel('Feature')\n",
    "plt.show()"
   ]
  },
  {
   "cell_type": "code",
   "execution_count": 71,
   "metadata": {},
   "outputs": [
    {
     "data": {
      "text/html": [
       "<div>\n",
       "<style scoped>\n",
       "    .dataframe tbody tr th:only-of-type {\n",
       "        vertical-align: middle;\n",
       "    }\n",
       "\n",
       "    .dataframe tbody tr th {\n",
       "        vertical-align: top;\n",
       "    }\n",
       "\n",
       "    .dataframe thead th {\n",
       "        text-align: right;\n",
       "    }\n",
       "</style>\n",
       "<table border=\"1\" class=\"dataframe\">\n",
       "  <thead>\n",
       "    <tr style=\"text-align: right;\">\n",
       "      <th></th>\n",
       "      <th>Feature</th>\n",
       "      <th>Gini Importance</th>\n",
       "      <th>Entropy Importance</th>\n",
       "      <th>Log Loss Importance</th>\n",
       "      <th>XGB Importance</th>\n",
       "      <th>Average Importance</th>\n",
       "    </tr>\n",
       "  </thead>\n",
       "  <tbody>\n",
       "    <tr>\n",
       "      <th>11</th>\n",
       "      <td>x_end</td>\n",
       "      <td>0.159863</td>\n",
       "      <td>0.240351</td>\n",
       "      <td>0.229252</td>\n",
       "      <td>0.428673</td>\n",
       "      <td>0.264535</td>\n",
       "    </tr>\n",
       "    <tr>\n",
       "      <th>12</th>\n",
       "      <td>y_end</td>\n",
       "      <td>0.269506</td>\n",
       "      <td>0.264920</td>\n",
       "      <td>0.260240</td>\n",
       "      <td>0.253427</td>\n",
       "      <td>0.262023</td>\n",
       "    </tr>\n",
       "    <tr>\n",
       "      <th>13</th>\n",
       "      <td>height_end</td>\n",
       "      <td>0.184553</td>\n",
       "      <td>0.205940</td>\n",
       "      <td>0.177691</td>\n",
       "      <td>0.305562</td>\n",
       "      <td>0.218436</td>\n",
       "    </tr>\n",
       "    <tr>\n",
       "      <th>9</th>\n",
       "      <td>x_start</td>\n",
       "      <td>0.107500</td>\n",
       "      <td>0.092389</td>\n",
       "      <td>0.105287</td>\n",
       "      <td>0.004271</td>\n",
       "      <td>0.077362</td>\n",
       "    </tr>\n",
       "    <tr>\n",
       "      <th>10</th>\n",
       "      <td>y_start</td>\n",
       "      <td>0.082603</td>\n",
       "      <td>0.073918</td>\n",
       "      <td>0.078024</td>\n",
       "      <td>0.002166</td>\n",
       "      <td>0.059178</td>\n",
       "    </tr>\n",
       "    <tr>\n",
       "      <th>14</th>\n",
       "      <td>position_float</td>\n",
       "      <td>0.054362</td>\n",
       "      <td>0.041193</td>\n",
       "      <td>0.048435</td>\n",
       "      <td>0.001505</td>\n",
       "      <td>0.036374</td>\n",
       "    </tr>\n",
       "    <tr>\n",
       "      <th>16</th>\n",
       "      <td>shot_type_float</td>\n",
       "      <td>0.044978</td>\n",
       "      <td>0.022730</td>\n",
       "      <td>0.029546</td>\n",
       "      <td>0.000000</td>\n",
       "      <td>0.024313</td>\n",
       "    </tr>\n",
       "    <tr>\n",
       "      <th>4</th>\n",
       "      <td>shot_one_on_one</td>\n",
       "      <td>0.031455</td>\n",
       "      <td>0.012808</td>\n",
       "      <td>0.017989</td>\n",
       "      <td>0.000000</td>\n",
       "      <td>0.015563</td>\n",
       "    </tr>\n",
       "    <tr>\n",
       "      <th>17</th>\n",
       "      <td>shot_body_part_float</td>\n",
       "      <td>0.017857</td>\n",
       "      <td>0.011666</td>\n",
       "      <td>0.013794</td>\n",
       "      <td>0.002387</td>\n",
       "      <td>0.011426</td>\n",
       "    </tr>\n",
       "    <tr>\n",
       "      <th>15</th>\n",
       "      <td>shot_technique_float</td>\n",
       "      <td>0.014718</td>\n",
       "      <td>0.008975</td>\n",
       "      <td>0.012257</td>\n",
       "      <td>0.000000</td>\n",
       "      <td>0.008988</td>\n",
       "    </tr>\n",
       "    <tr>\n",
       "      <th>3</th>\n",
       "      <td>shot_first_time</td>\n",
       "      <td>0.014159</td>\n",
       "      <td>0.009677</td>\n",
       "      <td>0.009182</td>\n",
       "      <td>0.002010</td>\n",
       "      <td>0.008757</td>\n",
       "    </tr>\n",
       "    <tr>\n",
       "      <th>6</th>\n",
       "      <td>under_pressure</td>\n",
       "      <td>0.009117</td>\n",
       "      <td>0.007958</td>\n",
       "      <td>0.009967</td>\n",
       "      <td>0.000000</td>\n",
       "      <td>0.006761</td>\n",
       "    </tr>\n",
       "    <tr>\n",
       "      <th>2</th>\n",
       "      <td>shot_deflected</td>\n",
       "      <td>0.002900</td>\n",
       "      <td>0.001919</td>\n",
       "      <td>0.002822</td>\n",
       "      <td>0.000000</td>\n",
       "      <td>0.001910</td>\n",
       "    </tr>\n",
       "    <tr>\n",
       "      <th>1</th>\n",
       "      <td>shot_aerial_won</td>\n",
       "      <td>0.002547</td>\n",
       "      <td>0.002677</td>\n",
       "      <td>0.002107</td>\n",
       "      <td>0.000000</td>\n",
       "      <td>0.001833</td>\n",
       "    </tr>\n",
       "    <tr>\n",
       "      <th>5</th>\n",
       "      <td>shot_open_goal</td>\n",
       "      <td>0.002144</td>\n",
       "      <td>0.001361</td>\n",
       "      <td>0.001717</td>\n",
       "      <td>0.000000</td>\n",
       "      <td>0.001305</td>\n",
       "    </tr>\n",
       "    <tr>\n",
       "      <th>0</th>\n",
       "      <td>out</td>\n",
       "      <td>0.001635</td>\n",
       "      <td>0.001471</td>\n",
       "      <td>0.001392</td>\n",
       "      <td>0.000000</td>\n",
       "      <td>0.001124</td>\n",
       "    </tr>\n",
       "    <tr>\n",
       "      <th>7</th>\n",
       "      <td>shot_saved_to_post</td>\n",
       "      <td>0.000106</td>\n",
       "      <td>0.000047</td>\n",
       "      <td>0.000297</td>\n",
       "      <td>0.000000</td>\n",
       "      <td>0.000112</td>\n",
       "    </tr>\n",
       "    <tr>\n",
       "      <th>8</th>\n",
       "      <td>shot_saved_off_target</td>\n",
       "      <td>0.000000</td>\n",
       "      <td>0.000000</td>\n",
       "      <td>0.000000</td>\n",
       "      <td>0.000000</td>\n",
       "      <td>0.000000</td>\n",
       "    </tr>\n",
       "  </tbody>\n",
       "</table>\n",
       "</div>"
      ],
      "text/plain": [
       "                  Feature  Gini Importance  Entropy Importance  \\\n",
       "11                  x_end         0.159863            0.240351   \n",
       "12                  y_end         0.269506            0.264920   \n",
       "13             height_end         0.184553            0.205940   \n",
       "9                 x_start         0.107500            0.092389   \n",
       "10                y_start         0.082603            0.073918   \n",
       "14         position_float         0.054362            0.041193   \n",
       "16        shot_type_float         0.044978            0.022730   \n",
       "4         shot_one_on_one         0.031455            0.012808   \n",
       "17   shot_body_part_float         0.017857            0.011666   \n",
       "15   shot_technique_float         0.014718            0.008975   \n",
       "3         shot_first_time         0.014159            0.009677   \n",
       "6          under_pressure         0.009117            0.007958   \n",
       "2          shot_deflected         0.002900            0.001919   \n",
       "1         shot_aerial_won         0.002547            0.002677   \n",
       "5          shot_open_goal         0.002144            0.001361   \n",
       "0                     out         0.001635            0.001471   \n",
       "7      shot_saved_to_post         0.000106            0.000047   \n",
       "8   shot_saved_off_target         0.000000            0.000000   \n",
       "\n",
       "    Log Loss Importance  XGB Importance  Average Importance  \n",
       "11             0.229252        0.428673            0.264535  \n",
       "12             0.260240        0.253427            0.262023  \n",
       "13             0.177691        0.305562            0.218436  \n",
       "9              0.105287        0.004271            0.077362  \n",
       "10             0.078024        0.002166            0.059178  \n",
       "14             0.048435        0.001505            0.036374  \n",
       "16             0.029546        0.000000            0.024313  \n",
       "4              0.017989        0.000000            0.015563  \n",
       "17             0.013794        0.002387            0.011426  \n",
       "15             0.012257        0.000000            0.008988  \n",
       "3              0.009182        0.002010            0.008757  \n",
       "6              0.009967        0.000000            0.006761  \n",
       "2              0.002822        0.000000            0.001910  \n",
       "1              0.002107        0.000000            0.001833  \n",
       "5              0.001717        0.000000            0.001305  \n",
       "0              0.001392        0.000000            0.001124  \n",
       "7              0.000297        0.000000            0.000112  \n",
       "8              0.000000        0.000000            0.000000  "
      ]
     },
     "execution_count": 71,
     "metadata": {},
     "output_type": "execute_result"
    }
   ],
   "source": [
    "importance_df"
   ]
  },
  {
   "cell_type": "code",
   "execution_count": 72,
   "metadata": {},
   "outputs": [],
   "source": [
    "important_features = importance_df[importance_df['Average Importance'] > 0.005]['Feature']\n",
    "shots_napoli_if = shots_napoli_filtered[important_features]\n"
   ]
  },
  {
   "cell_type": "code",
   "execution_count": 73,
   "metadata": {},
   "outputs": [],
   "source": [
    "shots_napoli['xG'] = model_xgb.predict_proba(X)[:, 1]"
   ]
  },
  {
   "cell_type": "code",
   "execution_count": 74,
   "metadata": {},
   "outputs": [
    {
     "name": "stdout",
     "output_type": "stream",
     "text": [
      "Top players by Expected Goals:\n"
     ]
    },
    {
     "data": {
      "text/plain": [
       "player\n",
       "Gonzalo Gerardo Higuaín      36.026913\n",
       "Lorenzo Insigne              11.922057\n",
       "José María Callejón Bueno     6.945088\n",
       "Marek Hamšík                  5.805957\n",
       "Dries Mertens                 5.065881\n",
       "Manolo Gabbiadini             4.930614\n",
       "Allan Marques Loureiro        2.993061\n",
       "Omar El Kaddouri              1.016721\n",
       "Raúl Albiol i Tortajada       1.010780\n",
       "David López Silva             1.008688\n",
       "Vlad Iulian Chiricheș         0.998071\n",
       "Faouzi Ghoulam                0.041996\n",
       "Elseid Hysaj                  0.019599\n",
       "Kalidou Koulibaly             0.018847\n",
       "Jorge Luiz Frello Filho       0.012865\n",
       "Ivan Strinić                  0.004115\n",
       "Mirko Valdifiori              0.002576\n",
       "Christian Maggio              0.001482\n",
       "Name: xG, dtype: float32"
      ]
     },
     "execution_count": 74,
     "metadata": {},
     "output_type": "execute_result"
    }
   ],
   "source": [
    "print(\"Top players by Expected Goals:\")\n",
    "players_xG = shots_napoli.groupby('player')['xG'].sum().sort_values(ascending=False)\n",
    "players_xG"
   ]
  },
  {
   "cell_type": "code",
   "execution_count": 75,
   "metadata": {},
   "outputs": [
    {
     "name": "stdout",
     "output_type": "stream",
     "text": [
      "Top players by Expected Goals - Actual Goals:\n"
     ]
    },
    {
     "data": {
      "text/plain": [
       "player\n",
       "Dries Mertens                0.065881\n",
       "Gonzalo Gerardo Higuaín      0.026913\n",
       "Omar El Kaddouri             0.016721\n",
       "Raúl Albiol i Tortajada      0.010780\n",
       "David López Silva            0.008688\n",
       "Vlad Iulian Chiricheș       -0.001929\n",
       "Allan Marques Loureiro      -0.006939\n",
       "José María Callejón Bueno   -0.054912\n",
       "Manolo Gabbiadini           -0.069386\n",
       "Lorenzo Insigne             -0.077943\n",
       "Marek Hamšík                -0.194043\n",
       "dtype: float64"
      ]
     },
     "execution_count": 75,
     "metadata": {},
     "output_type": "execute_result"
    }
   ],
   "source": [
    "print(\"Top players by Expected Goals - Actual Goals:\")\n",
    "(players_xG-players_goals).dropna().sort_values(ascending=False)"
   ]
  },
  {
   "cell_type": "markdown",
   "metadata": {},
   "source": [
    "# Carries Analysis"
   ]
  },
  {
   "cell_type": "markdown",
   "metadata": {},
   "source": [
    "## Developing Dangerous Carries Index (DCI)"
   ]
  },
  {
   "cell_type": "code",
   "execution_count": 310,
   "metadata": {},
   "outputs": [],
   "source": [
    "carries = events_napoli[events_napoli['type'] == 'Carry'].dropna(axis=1, how='all')\n",
    "carries_napoli = carries[carries['team'] == 'Napoli']"
   ]
  },
  {
   "cell_type": "code",
   "execution_count": 311,
   "metadata": {},
   "outputs": [],
   "source": [
    "carries_filtered = carries_napoli.drop(columns=['id', 'index', 'period', 'timestamp', 'minute', 'second', 'possession', 'possession_team', 'play_pattern', 'team', 'duration', 'related_events', 'match_id', 'player_id', 'possession_team_id', 'team_id', 'type', 'position', 'under_pressure'])"
   ]
  },
  {
   "cell_type": "code",
   "execution_count": 312,
   "metadata": {},
   "outputs": [],
   "source": [
    "carries_filtered[['x_start', 'y_start']] = pd.DataFrame(carries_filtered['location'].apply(lambda loc: eval(loc) if isinstance(loc, str) else loc).tolist(), index=carries_filtered.index)\n",
    "carries_filtered = carries_filtered.drop('location', axis=1)\n",
    "carries_filtered[['x_end', 'y_end']] = pd.DataFrame(carries_filtered['carry_end_location'].apply(lambda loc: eval(loc) if isinstance(loc, str) else loc).tolist(), index=carries_filtered.index)\n",
    "carries_filtered = carries_filtered.drop('carry_end_location', axis=1)\n",
    "carries_filtered['length'] = np.sqrt((np.abs(carries_filtered['x_end'] - carries_filtered['x_start']))**2 + (np.abs(carries_filtered['y_end'] - carries_filtered['y_start']))**2)\n",
    "carries_filtered['progressive_length'] = carries_filtered['x_start'] - carries_filtered['x_end']\n",
    "carries_filtered['distance_from_center'] = abs(carries_filtered['y_start'] - 40) + abs(carries_filtered['y_end'] - 40)\n",
    "carries_filtered_export = carries_filtered.copy()"
   ]
  },
  {
   "cell_type": "code",
   "execution_count": 314,
   "metadata": {},
   "outputs": [
    {
     "data": {
      "text/plain": [
       "(count    20681.000000\n",
       " mean         5.128618\n",
       " std          6.820116\n",
       " min          0.000000\n",
       " 25%          0.600000\n",
       " 50%          2.701851\n",
       " 75%          6.926038\n",
       " max         67.884092\n",
       " Name: length, dtype: float64,\n",
       " count    20681.000000\n",
       " mean        -2.585151\n",
       " std          6.697200\n",
       " min        -66.500000\n",
       " 25%         -3.700000\n",
       " 50%         -0.300000\n",
       " 75%          0.000000\n",
       " max         30.200000\n",
       " Name: progressive_length, dtype: float64)"
      ]
     },
     "execution_count": 314,
     "metadata": {},
     "output_type": "execute_result"
    }
   ],
   "source": [
    "carries_filtered['length'].describe(), carries_filtered['progressive_length'].describe()"
   ]
  },
  {
   "cell_type": "code",
   "execution_count": 315,
   "metadata": {},
   "outputs": [],
   "source": [
    "scaler = MinMaxScaler(feature_range=(-1, 1))\n",
    "carries_filtered['progressive_length'] = scaler.fit_transform(carries_filtered[['progressive_length']])\n",
    "carries_filtered['length'] = carries_filtered['length']/max(carries_filtered['length'])\n",
    "carries_filtered['x_start'] = carries_filtered['x_start']/carries_filtered['x_end'].max()\n",
    "carries_filtered['x_end'] = carries_filtered['x_start']/carries_filtered['x_end'].max()\n",
    "carries_filtered['y_start'] = carries_filtered['y_start']/carries_filtered['y_end'].max()\n",
    "carries_filtered['y_end'] = carries_filtered['y_start']/carries_filtered['y_end'].max()\n",
    "carries_filtered['distance_from_center'] = carries_filtered['distance_from_center']/carries_filtered['distance_from_center'].max()"
   ]
  },
  {
   "cell_type": "code",
   "execution_count": 316,
   "metadata": {},
   "outputs": [
    {
     "data": {
      "text/plain": [
       "(count    20681.000000\n",
       " mean         0.321920\n",
       " std          0.138515\n",
       " min         -1.000000\n",
       " 25%          0.298862\n",
       " 50%          0.369183\n",
       " 75%          0.375388\n",
       " max          1.000000\n",
       " Name: progressive_length, dtype: float64,\n",
       " count    20681.000000\n",
       " mean         0.075550\n",
       " std          0.100467\n",
       " min          0.000000\n",
       " 25%          0.008839\n",
       " 50%          0.039801\n",
       " 75%          0.102027\n",
       " max          1.000000\n",
       " Name: length, dtype: float64,\n",
       " count    20681.000000\n",
       " mean         0.514008\n",
       " std          0.199896\n",
       " min          0.010033\n",
       " 25%          0.381271\n",
       " 50%          0.526756\n",
       " 75%          0.652174\n",
       " max          0.998328\n",
       " Name: x_start, dtype: float64,\n",
       " count    20681.000000\n",
       " mean         0.004298\n",
       " std          0.001671\n",
       " min          0.000084\n",
       " 25%          0.003188\n",
       " 50%          0.004404\n",
       " 75%          0.005453\n",
       " max          0.008347\n",
       " Name: x_end, dtype: float64,\n",
       " count    20681.000000\n",
       " mean         0.465540\n",
       " std          0.287983\n",
       " min          0.001250\n",
       " 25%          0.212500\n",
       " 50%          0.435000\n",
       " 75%          0.717500\n",
       " max          0.996250\n",
       " Name: y_start, dtype: float64,\n",
       " count    20681.000000\n",
       " mean         0.005819\n",
       " std          0.003600\n",
       " min          0.000016\n",
       " 25%          0.002656\n",
       " 50%          0.005437\n",
       " 75%          0.008969\n",
       " max          0.012453\n",
       " Name: y_end, dtype: float64,\n",
       " count    20681.000000\n",
       " mean         0.510193\n",
       " std          0.272836\n",
       " min          0.000000\n",
       " 25%          0.282663\n",
       " 50%          0.520101\n",
       " 75%          0.752513\n",
       " max          1.000000\n",
       " Name: distance_from_center, dtype: float64)"
      ]
     },
     "execution_count": 316,
     "metadata": {},
     "output_type": "execute_result"
    }
   ],
   "source": [
    "carries_filtered['progressive_length'].describe(), carries_filtered['length'].describe(), carries_filtered['x_start'].describe(), carries_filtered['x_end'].describe(), carries_filtered['y_start'].describe(), carries_filtered['y_end'].describe(), carries_filtered['distance_from_center'].describe()"
   ]
  },
  {
   "cell_type": "code",
   "execution_count": 317,
   "metadata": {},
   "outputs": [],
   "source": [
    "corr_matrix = carries_filtered.drop(columns=['player']).corr(method='pearson')"
   ]
  },
  {
   "cell_type": "code",
   "execution_count": 318,
   "metadata": {},
   "outputs": [
    {
     "data": {
      "image/png": "[encoded data removed]",
      "text/plain": [
       "<Figure size 1000x800 with 2 Axes>"
      ]
     },
     "metadata": {},
     "output_type": "display_data"
    }
   ],
   "source": [
    "plt.figure(figsize=(10, 8))\n",
    "sns.heatmap(corr_matrix, annot=True, cmap='coolwarm', fmt='.2f')\n",
    "plt.title('Correlation Matrix')\n",
    "plt.show()"
   ]
  },
  {
   "cell_type": "code",
   "execution_count": 319,
   "metadata": {},
   "outputs": [],
   "source": [
    "# Define weights for each factor\n",
    "w_PL = 0.4  # Weight for progressive length\n",
    "w_E = 0.3   # Weight for end position\n",
    "w_L = 0.1   # Weight for carry length\n",
    "w_S = 0.1   # Weight for starting position\n",
    "w_C = 0.1   # Weight for distance from the center (penalty for being far from center)\n",
    "\n",
    "# Calculate Dangerousness Carries Index (DCI)\n",
    "carries_filtered['dangerousness_carries_index'] = (w_PL * carries_filtered['progressive_length'] +\n",
    "                             w_E * (1 - carries_filtered['x_end']) +\n",
    "                             w_L * carries_filtered['length'] +\n",
    "                             w_S * (1 - carries_filtered['x_start']) -\n",
    "                             w_C * carries_filtered['distance_from_center'])"
   ]
  },
  {
   "cell_type": "code",
   "execution_count": 320,
   "metadata": {},
   "outputs": [],
   "source": [
    "carries_filtered_export['dangerousness_carries_index'] = carries_filtered['dangerousness_carries_index']"
   ]
  },
  {
   "cell_type": "code",
   "execution_count": 334,
   "metadata": {},
   "outputs": [],
   "source": [
    "carries_filtered_export.to_csv('Sources/carries_filtered.csv')"
   ]
  },
  {
   "cell_type": "code",
   "execution_count": 322,
   "metadata": {},
   "outputs": [
    {
     "data": {
      "text/plain": [
       "player\n",
       "Jorge Luiz Frello Filho        1.000000\n",
       "Marek Hamšík                   0.842016\n",
       "Raúl Albiol i Tortajada        0.648841\n",
       "Kalidou Koulibaly              0.631180\n",
       "Allan Marques Loureiro         0.597250\n",
       "Elseid Hysaj                   0.566918\n",
       "Faouzi Ghoulam                 0.554894\n",
       "Lorenzo Insigne                0.513581\n",
       "José María Callejón Bueno      0.393699\n",
       "Gonzalo Gerardo Higuaín        0.333426\n",
       "José Manuel Reina Páez         0.225867\n",
       "Dries Mertens                  0.195882\n",
       "David López Silva              0.167161\n",
       "Vlad Iulian Chiricheș          0.140314\n",
       "Mirko Valdifiori               0.106871\n",
       "Christian Maggio               0.055002\n",
       "Omar El Kaddouri               0.052947\n",
       "Ivan Strinić                   0.050689\n",
       "Manolo Gabbiadini              0.047658\n",
       "Nathaniel Chalobah             0.012984\n",
       "Gabriel Vasconelos Ferreira    0.003661\n",
       "Vasco Regini                   0.001134\n",
       "Name: dangerousness_carries_index, dtype: float64"
      ]
     },
     "execution_count": 322,
     "metadata": {},
     "output_type": "execute_result"
    }
   ],
   "source": [
    "players_DCI = carries_filtered.groupby('player')['dangerousness_carries_index'].sum().sort_values(ascending=False)\n",
    "players_DCI = players_DCI/players_DCI.max()\n",
    "players_DCI"
   ]
  },
  {
   "cell_type": "markdown",
   "metadata": {},
   "source": [
    "# Develop a Clustering based on xG, xA and DCI for each player "
   ]
  },
  {
   "cell_type": "code",
   "execution_count": 323,
   "metadata": {},
   "outputs": [],
   "source": [
    "# Get the indexes (player names) from each series\n",
    "index_xA = set(players_xA.index)\n",
    "index_xG = set(players_xG.index)\n",
    "index_dCI = set(players_DCI.index)\n",
    "\n",
    "all_players = sorted(index_xA.union(index_xG).union(index_dCI))"
   ]
  },
  {
   "cell_type": "code",
   "execution_count": 324,
   "metadata": {},
   "outputs": [],
   "source": [
    "players_stats = pd.concat([players_xA, players_xG, players_DCI, players_assists, players_goals, players_shots, passes_to_shot], axis=1, keys=['xA', 'xG', 'DCI', 'A', 'G', 'Shots', 'Passes_to_Shot']).fillna(0)"
   ]
  },
  {
   "cell_type": "code",
   "execution_count": 325,
   "metadata": {},
   "outputs": [
    {
     "data": {
      "text/plain": [
       "count    22.000000\n",
       "mean      6.045455\n",
       "std       9.403532\n",
       "min       0.000000\n",
       "25%       0.000000\n",
       "50%       2.000000\n",
       "75%       8.000000\n",
       "max      38.000000\n",
       "Name: Total_contribution, dtype: float64"
      ]
     },
     "execution_count": 325,
     "metadata": {},
     "output_type": "execute_result"
    }
   ],
   "source": [
    "players_stats['Total_contribution'] = players_stats['A'] + players_stats['G']\n",
    "players_stats['Total_contribution'].describe()"
   ]
  },
  {
   "cell_type": "code",
   "execution_count": 326,
   "metadata": {},
   "outputs": [
    {
     "data": {
      "text/html": [
       "<div>\n",
       "<style scoped>\n",
       "    .dataframe tbody tr th:only-of-type {\n",
       "        vertical-align: middle;\n",
       "    }\n",
       "\n",
       "    .dataframe tbody tr th {\n",
       "        vertical-align: top;\n",
       "    }\n",
       "\n",
       "    .dataframe thead th {\n",
       "        text-align: right;\n",
       "    }\n",
       "</style>\n",
       "<table border=\"1\" class=\"dataframe\">\n",
       "  <thead>\n",
       "    <tr style=\"text-align: right;\">\n",
       "      <th></th>\n",
       "      <th>xA</th>\n",
       "      <th>xG</th>\n",
       "      <th>DCI</th>\n",
       "      <th>A</th>\n",
       "      <th>G</th>\n",
       "      <th>Shots</th>\n",
       "      <th>Passes_to_Shot</th>\n",
       "      <th>Total_contribution</th>\n",
       "    </tr>\n",
       "    <tr>\n",
       "      <th>player</th>\n",
       "      <th></th>\n",
       "      <th></th>\n",
       "      <th></th>\n",
       "      <th></th>\n",
       "      <th></th>\n",
       "      <th></th>\n",
       "      <th></th>\n",
       "      <th></th>\n",
       "    </tr>\n",
       "  </thead>\n",
       "  <tbody>\n",
       "    <tr>\n",
       "      <th>Marek Hamšík</th>\n",
       "      <td>8.386888</td>\n",
       "      <td>5.805957</td>\n",
       "      <td>0.842016</td>\n",
       "      <td>11.0</td>\n",
       "      <td>6.0</td>\n",
       "      <td>84.0</td>\n",
       "      <td>81.0</td>\n",
       "      <td>17.0</td>\n",
       "    </tr>\n",
       "    <tr>\n",
       "      <th>Lorenzo Insigne</th>\n",
       "      <td>8.058965</td>\n",
       "      <td>11.922057</td>\n",
       "      <td>0.513581</td>\n",
       "      <td>10.0</td>\n",
       "      <td>12.0</td>\n",
       "      <td>135.0</td>\n",
       "      <td>58.0</td>\n",
       "      <td>22.0</td>\n",
       "    </tr>\n",
       "    <tr>\n",
       "      <th>Allan Marques Loureiro</th>\n",
       "      <td>5.057558</td>\n",
       "      <td>2.993061</td>\n",
       "      <td>0.597250</td>\n",
       "      <td>5.0</td>\n",
       "      <td>3.0</td>\n",
       "      <td>29.0</td>\n",
       "      <td>35.0</td>\n",
       "      <td>8.0</td>\n",
       "    </tr>\n",
       "    <tr>\n",
       "      <th>Jorge Luiz Frello Filho</th>\n",
       "      <td>4.457499</td>\n",
       "      <td>0.012865</td>\n",
       "      <td>1.000000</td>\n",
       "      <td>4.0</td>\n",
       "      <td>0.0</td>\n",
       "      <td>6.0</td>\n",
       "      <td>63.0</td>\n",
       "      <td>4.0</td>\n",
       "    </tr>\n",
       "    <tr>\n",
       "      <th>José María Callejón Bueno</th>\n",
       "      <td>4.009930</td>\n",
       "      <td>6.945088</td>\n",
       "      <td>0.393699</td>\n",
       "      <td>6.0</td>\n",
       "      <td>7.0</td>\n",
       "      <td>64.0</td>\n",
       "      <td>40.0</td>\n",
       "      <td>13.0</td>\n",
       "    </tr>\n",
       "    <tr>\n",
       "      <th>Dries Mertens</th>\n",
       "      <td>3.410864</td>\n",
       "      <td>5.065881</td>\n",
       "      <td>0.195882</td>\n",
       "      <td>5.0</td>\n",
       "      <td>5.0</td>\n",
       "      <td>55.0</td>\n",
       "      <td>26.0</td>\n",
       "      <td>10.0</td>\n",
       "    </tr>\n",
       "    <tr>\n",
       "      <th>Gonzalo Gerardo Higuaín</th>\n",
       "      <td>2.399893</td>\n",
       "      <td>36.026913</td>\n",
       "      <td>0.333426</td>\n",
       "      <td>2.0</td>\n",
       "      <td>36.0</td>\n",
       "      <td>182.0</td>\n",
       "      <td>47.0</td>\n",
       "      <td>38.0</td>\n",
       "    </tr>\n",
       "    <tr>\n",
       "      <th>Faouzi Ghoulam</th>\n",
       "      <td>2.074198</td>\n",
       "      <td>0.041996</td>\n",
       "      <td>0.554894</td>\n",
       "      <td>3.0</td>\n",
       "      <td>0.0</td>\n",
       "      <td>22.0</td>\n",
       "      <td>28.0</td>\n",
       "      <td>3.0</td>\n",
       "    </tr>\n",
       "    <tr>\n",
       "      <th>Elseid Hysaj</th>\n",
       "      <td>2.051194</td>\n",
       "      <td>0.019599</td>\n",
       "      <td>0.566918</td>\n",
       "      <td>2.0</td>\n",
       "      <td>0.0</td>\n",
       "      <td>12.0</td>\n",
       "      <td>24.0</td>\n",
       "      <td>2.0</td>\n",
       "    </tr>\n",
       "    <tr>\n",
       "      <th>Manolo Gabbiadini</th>\n",
       "      <td>1.822027</td>\n",
       "      <td>4.930614</td>\n",
       "      <td>0.047658</td>\n",
       "      <td>3.0</td>\n",
       "      <td>5.0</td>\n",
       "      <td>30.0</td>\n",
       "      <td>10.0</td>\n",
       "      <td>8.0</td>\n",
       "    </tr>\n",
       "    <tr>\n",
       "      <th>David López Silva</th>\n",
       "      <td>1.026265</td>\n",
       "      <td>1.008688</td>\n",
       "      <td>0.167161</td>\n",
       "      <td>1.0</td>\n",
       "      <td>1.0</td>\n",
       "      <td>10.0</td>\n",
       "      <td>6.0</td>\n",
       "      <td>2.0</td>\n",
       "    </tr>\n",
       "    <tr>\n",
       "      <th>Raúl Albiol i Tortajada</th>\n",
       "      <td>0.991957</td>\n",
       "      <td>1.010780</td>\n",
       "      <td>0.648841</td>\n",
       "      <td>1.0</td>\n",
       "      <td>1.0</td>\n",
       "      <td>9.0</td>\n",
       "      <td>4.0</td>\n",
       "      <td>2.0</td>\n",
       "    </tr>\n",
       "    <tr>\n",
       "      <th>Omar El Kaddouri</th>\n",
       "      <td>0.896727</td>\n",
       "      <td>1.016721</td>\n",
       "      <td>0.052947</td>\n",
       "      <td>2.0</td>\n",
       "      <td>1.0</td>\n",
       "      <td>11.0</td>\n",
       "      <td>7.0</td>\n",
       "      <td>3.0</td>\n",
       "    </tr>\n",
       "    <tr>\n",
       "      <th>Mirko Valdifiori</th>\n",
       "      <td>0.202675</td>\n",
       "      <td>0.002576</td>\n",
       "      <td>0.106871</td>\n",
       "      <td>0.0</td>\n",
       "      <td>0.0</td>\n",
       "      <td>1.0</td>\n",
       "      <td>12.0</td>\n",
       "      <td>0.0</td>\n",
       "    </tr>\n",
       "    <tr>\n",
       "      <th>Kalidou Koulibaly</th>\n",
       "      <td>0.110876</td>\n",
       "      <td>0.018847</td>\n",
       "      <td>0.631180</td>\n",
       "      <td>0.0</td>\n",
       "      <td>0.0</td>\n",
       "      <td>5.0</td>\n",
       "      <td>9.0</td>\n",
       "      <td>0.0</td>\n",
       "    </tr>\n",
       "    <tr>\n",
       "      <th>José Manuel Reina Páez</th>\n",
       "      <td>0.062138</td>\n",
       "      <td>0.000000</td>\n",
       "      <td>0.225867</td>\n",
       "      <td>0.0</td>\n",
       "      <td>0.0</td>\n",
       "      <td>0.0</td>\n",
       "      <td>1.0</td>\n",
       "      <td>0.0</td>\n",
       "    </tr>\n",
       "    <tr>\n",
       "      <th>Ivan Strinić</th>\n",
       "      <td>0.033660</td>\n",
       "      <td>0.004115</td>\n",
       "      <td>0.050689</td>\n",
       "      <td>0.0</td>\n",
       "      <td>0.0</td>\n",
       "      <td>3.0</td>\n",
       "      <td>1.0</td>\n",
       "      <td>0.0</td>\n",
       "    </tr>\n",
       "    <tr>\n",
       "      <th>Vlad Iulian Chiricheș</th>\n",
       "      <td>0.022229</td>\n",
       "      <td>0.998071</td>\n",
       "      <td>0.140314</td>\n",
       "      <td>0.0</td>\n",
       "      <td>1.0</td>\n",
       "      <td>5.0</td>\n",
       "      <td>0.0</td>\n",
       "      <td>1.0</td>\n",
       "    </tr>\n",
       "    <tr>\n",
       "      <th>Christian Maggio</th>\n",
       "      <td>0.019105</td>\n",
       "      <td>0.001482</td>\n",
       "      <td>0.055002</td>\n",
       "      <td>0.0</td>\n",
       "      <td>0.0</td>\n",
       "      <td>1.0</td>\n",
       "      <td>2.0</td>\n",
       "      <td>0.0</td>\n",
       "    </tr>\n",
       "    <tr>\n",
       "      <th>Nathaniel Chalobah</th>\n",
       "      <td>0.000491</td>\n",
       "      <td>0.000000</td>\n",
       "      <td>0.012984</td>\n",
       "      <td>0.0</td>\n",
       "      <td>0.0</td>\n",
       "      <td>0.0</td>\n",
       "      <td>2.0</td>\n",
       "      <td>0.0</td>\n",
       "    </tr>\n",
       "    <tr>\n",
       "      <th>Gabriel Vasconelos Ferreira</th>\n",
       "      <td>0.000298</td>\n",
       "      <td>0.000000</td>\n",
       "      <td>0.003661</td>\n",
       "      <td>0.0</td>\n",
       "      <td>0.0</td>\n",
       "      <td>0.0</td>\n",
       "      <td>0.0</td>\n",
       "      <td>0.0</td>\n",
       "    </tr>\n",
       "    <tr>\n",
       "      <th>Vasco Regini</th>\n",
       "      <td>0.000013</td>\n",
       "      <td>0.000000</td>\n",
       "      <td>0.001134</td>\n",
       "      <td>0.0</td>\n",
       "      <td>0.0</td>\n",
       "      <td>0.0</td>\n",
       "      <td>0.0</td>\n",
       "      <td>0.0</td>\n",
       "    </tr>\n",
       "  </tbody>\n",
       "</table>\n",
       "</div>"
      ],
      "text/plain": [
       "                                   xA         xG       DCI     A     G  Shots  \\\n",
       "player                                                                          \n",
       "Marek Hamšík                 8.386888   5.805957  0.842016  11.0   6.0   84.0   \n",
       "Lorenzo Insigne              8.058965  11.922057  0.513581  10.0  12.0  135.0   \n",
       "Allan Marques Loureiro       5.057558   2.993061  0.597250   5.0   3.0   29.0   \n",
       "Jorge Luiz Frello Filho      4.457499   0.012865  1.000000   4.0   0.0    6.0   \n",
       "José María Callejón Bueno    4.009930   6.945088  0.393699   6.0   7.0   64.0   \n",
       "Dries Mertens                3.410864   5.065881  0.195882   5.0   5.0   55.0   \n",
       "Gonzalo Gerardo Higuaín      2.399893  36.026913  0.333426   2.0  36.0  182.0   \n",
       "Faouzi Ghoulam               2.074198   0.041996  0.554894   3.0   0.0   22.0   \n",
       "Elseid Hysaj                 2.051194   0.019599  0.566918   2.0   0.0   12.0   \n",
       "Manolo Gabbiadini            1.822027   4.930614  0.047658   3.0   5.0   30.0   \n",
       "David López Silva            1.026265   1.008688  0.167161   1.0   1.0   10.0   \n",
       "Raúl Albiol i Tortajada      0.991957   1.010780  0.648841   1.0   1.0    9.0   \n",
       "Omar El Kaddouri             0.896727   1.016721  0.052947   2.0   1.0   11.0   \n",
       "Mirko Valdifiori             0.202675   0.002576  0.106871   0.0   0.0    1.0   \n",
       "Kalidou Koulibaly            0.110876   0.018847  0.631180   0.0   0.0    5.0   \n",
       "José Manuel Reina Páez       0.062138   0.000000  0.225867   0.0   0.0    0.0   \n",
       "Ivan Strinić                 0.033660   0.004115  0.050689   0.0   0.0    3.0   \n",
       "Vlad Iulian Chiricheș        0.022229   0.998071  0.140314   0.0   1.0    5.0   \n",
       "Christian Maggio             0.019105   0.001482  0.055002   0.0   0.0    1.0   \n",
       "Nathaniel Chalobah           0.000491   0.000000  0.012984   0.0   0.0    0.0   \n",
       "Gabriel Vasconelos Ferreira  0.000298   0.000000  0.003661   0.0   0.0    0.0   \n",
       "Vasco Regini                 0.000013   0.000000  0.001134   0.0   0.0    0.0   \n",
       "\n",
       "                             Passes_to_Shot  Total_contribution  \n",
       "player                                                           \n",
       "Marek Hamšík                           81.0                17.0  \n",
       "Lorenzo Insigne                        58.0                22.0  \n",
       "Allan Marques Loureiro                 35.0                 8.0  \n",
       "Jorge Luiz Frello Filho                63.0                 4.0  \n",
       "José María Callejón Bueno              40.0                13.0  \n",
       "Dries Mertens                          26.0                10.0  \n",
       "Gonzalo Gerardo Higuaín                47.0                38.0  \n",
       "Faouzi Ghoulam                         28.0                 3.0  \n",
       "Elseid Hysaj                           24.0                 2.0  \n",
       "Manolo Gabbiadini                      10.0                 8.0  \n",
       "David López Silva                       6.0                 2.0  \n",
       "Raúl Albiol i Tortajada                 4.0                 2.0  \n",
       "Omar El Kaddouri                        7.0                 3.0  \n",
       "Mirko Valdifiori                       12.0                 0.0  \n",
       "Kalidou Koulibaly                       9.0                 0.0  \n",
       "José Manuel Reina Páez                  1.0                 0.0  \n",
       "Ivan Strinić                            1.0                 0.0  \n",
       "Vlad Iulian Chiricheș                   0.0                 1.0  \n",
       "Christian Maggio                        2.0                 0.0  \n",
       "Nathaniel Chalobah                      2.0                 0.0  \n",
       "Gabriel Vasconelos Ferreira             0.0                 0.0  \n",
       "Vasco Regini                            0.0                 0.0  "
      ]
     },
     "execution_count": 326,
     "metadata": {},
     "output_type": "execute_result"
    }
   ],
   "source": [
    "players_stats"
   ]
  },
  {
   "cell_type": "markdown",
   "metadata": {},
   "source": [
    "Use K-Means Algorithm to cluster the group of players based on their Attacking Propension"
   ]
  },
  {
   "cell_type": "code",
   "execution_count": 327,
   "metadata": {},
   "outputs": [],
   "source": [
    "X = players_stats.copy()\n",
    "\n",
    "X['G'] = X['G'] * 2\n",
    "X['A'] = X['A'] * 1.5\n",
    "X['Shots'] = X['Shots'] * 0.75\n",
    "X['Passes_to_Shot'] = X['Passes_to_Shot'] * 0.5\n",
    "\n",
    "# Standardize the features to ensure all variables are on the same scale\n",
    "scaler = StandardScaler()\n",
    "X_scaled = scaler.fit_transform(X)\n",
    "\n",
    "# Apply K-Means Clustering\n",
    "kmeans = KMeans(n_clusters=5, random_state=42)\n",
    "players_stats['Cluster'] = kmeans.fit_predict(X_scaled)\n",
    "\n"
   ]
  },
  {
   "cell_type": "code",
   "execution_count": 328,
   "metadata": {},
   "outputs": [],
   "source": [
    "# Label the cluster with the higher mean goals + assists as \"high performance\"\n",
    "players_stats['Cluster_Label'] = players_stats.groupby('Cluster')[['G', 'A']].transform('mean').sum(axis=1)\n",
    "high_performance_cluster = players_stats.groupby('Cluster')['Cluster_Label'].mean().idxmax()"
   ]
  },
  {
   "cell_type": "code",
   "execution_count": 329,
   "metadata": {},
   "outputs": [],
   "source": [
    "map = {1: 'High Performance', 2: 'Good Performance', 4: 'Average Performance', 0: 'Low Performance', 3: 'Very Low Performance'}"
   ]
  },
  {
   "cell_type": "code",
   "execution_count": 330,
   "metadata": {},
   "outputs": [],
   "source": [
    "players_stats['Cluster_Label'] = players_stats['Cluster'].map(map)"
   ]
  },
  {
   "cell_type": "code",
   "execution_count": 331,
   "metadata": {},
   "outputs": [
    {
     "data": {
      "text/html": [
       "<div>\n",
       "<style scoped>\n",
       "    .dataframe tbody tr th:only-of-type {\n",
       "        vertical-align: middle;\n",
       "    }\n",
       "\n",
       "    .dataframe tbody tr th {\n",
       "        vertical-align: top;\n",
       "    }\n",
       "\n",
       "    .dataframe thead th {\n",
       "        text-align: right;\n",
       "    }\n",
       "</style>\n",
       "<table border=\"1\" class=\"dataframe\">\n",
       "  <thead>\n",
       "    <tr style=\"text-align: right;\">\n",
       "      <th></th>\n",
       "      <th>xA</th>\n",
       "      <th>xG</th>\n",
       "      <th>DCI</th>\n",
       "      <th>A</th>\n",
       "      <th>G</th>\n",
       "      <th>Shots</th>\n",
       "      <th>Passes_to_Shot</th>\n",
       "      <th>Total_contribution</th>\n",
       "      <th>Cluster</th>\n",
       "      <th>Cluster_Label</th>\n",
       "    </tr>\n",
       "    <tr>\n",
       "      <th>player</th>\n",
       "      <th></th>\n",
       "      <th></th>\n",
       "      <th></th>\n",
       "      <th></th>\n",
       "      <th></th>\n",
       "      <th></th>\n",
       "      <th></th>\n",
       "      <th></th>\n",
       "      <th></th>\n",
       "      <th></th>\n",
       "    </tr>\n",
       "  </thead>\n",
       "  <tbody>\n",
       "    <tr>\n",
       "      <th>Marek Hamšík</th>\n",
       "      <td>8.386888</td>\n",
       "      <td>5.805957</td>\n",
       "      <td>0.842016</td>\n",
       "      <td>11.0</td>\n",
       "      <td>6.0</td>\n",
       "      <td>84.0</td>\n",
       "      <td>81.0</td>\n",
       "      <td>17.0</td>\n",
       "      <td>2</td>\n",
       "      <td>Good Performance</td>\n",
       "    </tr>\n",
       "    <tr>\n",
       "      <th>Lorenzo Insigne</th>\n",
       "      <td>8.058965</td>\n",
       "      <td>11.922057</td>\n",
       "      <td>0.513581</td>\n",
       "      <td>10.0</td>\n",
       "      <td>12.0</td>\n",
       "      <td>135.0</td>\n",
       "      <td>58.0</td>\n",
       "      <td>22.0</td>\n",
       "      <td>2</td>\n",
       "      <td>Good Performance</td>\n",
       "    </tr>\n",
       "    <tr>\n",
       "      <th>Allan Marques Loureiro</th>\n",
       "      <td>5.057558</td>\n",
       "      <td>2.993061</td>\n",
       "      <td>0.597250</td>\n",
       "      <td>5.0</td>\n",
       "      <td>3.0</td>\n",
       "      <td>29.0</td>\n",
       "      <td>35.0</td>\n",
       "      <td>8.0</td>\n",
       "      <td>0</td>\n",
       "      <td>Low Performance</td>\n",
       "    </tr>\n",
       "    <tr>\n",
       "      <th>Jorge Luiz Frello Filho</th>\n",
       "      <td>4.457499</td>\n",
       "      <td>0.012865</td>\n",
       "      <td>1.000000</td>\n",
       "      <td>4.0</td>\n",
       "      <td>0.0</td>\n",
       "      <td>6.0</td>\n",
       "      <td>63.0</td>\n",
       "      <td>4.0</td>\n",
       "      <td>0</td>\n",
       "      <td>Low Performance</td>\n",
       "    </tr>\n",
       "    <tr>\n",
       "      <th>José María Callejón Bueno</th>\n",
       "      <td>4.009930</td>\n",
       "      <td>6.945088</td>\n",
       "      <td>0.393699</td>\n",
       "      <td>6.0</td>\n",
       "      <td>7.0</td>\n",
       "      <td>64.0</td>\n",
       "      <td>40.0</td>\n",
       "      <td>13.0</td>\n",
       "      <td>4</td>\n",
       "      <td>Average Performance</td>\n",
       "    </tr>\n",
       "    <tr>\n",
       "      <th>Dries Mertens</th>\n",
       "      <td>3.410864</td>\n",
       "      <td>5.065881</td>\n",
       "      <td>0.195882</td>\n",
       "      <td>5.0</td>\n",
       "      <td>5.0</td>\n",
       "      <td>55.0</td>\n",
       "      <td>26.0</td>\n",
       "      <td>10.0</td>\n",
       "      <td>4</td>\n",
       "      <td>Average Performance</td>\n",
       "    </tr>\n",
       "    <tr>\n",
       "      <th>Gonzalo Gerardo Higuaín</th>\n",
       "      <td>2.399893</td>\n",
       "      <td>36.026913</td>\n",
       "      <td>0.333426</td>\n",
       "      <td>2.0</td>\n",
       "      <td>36.0</td>\n",
       "      <td>182.0</td>\n",
       "      <td>47.0</td>\n",
       "      <td>38.0</td>\n",
       "      <td>1</td>\n",
       "      <td>High Performance</td>\n",
       "    </tr>\n",
       "    <tr>\n",
       "      <th>Faouzi Ghoulam</th>\n",
       "      <td>2.074198</td>\n",
       "      <td>0.041996</td>\n",
       "      <td>0.554894</td>\n",
       "      <td>3.0</td>\n",
       "      <td>0.0</td>\n",
       "      <td>22.0</td>\n",
       "      <td>28.0</td>\n",
       "      <td>3.0</td>\n",
       "      <td>0</td>\n",
       "      <td>Low Performance</td>\n",
       "    </tr>\n",
       "    <tr>\n",
       "      <th>Elseid Hysaj</th>\n",
       "      <td>2.051194</td>\n",
       "      <td>0.019599</td>\n",
       "      <td>0.566918</td>\n",
       "      <td>2.0</td>\n",
       "      <td>0.0</td>\n",
       "      <td>12.0</td>\n",
       "      <td>24.0</td>\n",
       "      <td>2.0</td>\n",
       "      <td>0</td>\n",
       "      <td>Low Performance</td>\n",
       "    </tr>\n",
       "    <tr>\n",
       "      <th>Manolo Gabbiadini</th>\n",
       "      <td>1.822027</td>\n",
       "      <td>4.930614</td>\n",
       "      <td>0.047658</td>\n",
       "      <td>3.0</td>\n",
       "      <td>5.0</td>\n",
       "      <td>30.0</td>\n",
       "      <td>10.0</td>\n",
       "      <td>8.0</td>\n",
       "      <td>4</td>\n",
       "      <td>Average Performance</td>\n",
       "    </tr>\n",
       "    <tr>\n",
       "      <th>David López Silva</th>\n",
       "      <td>1.026265</td>\n",
       "      <td>1.008688</td>\n",
       "      <td>0.167161</td>\n",
       "      <td>1.0</td>\n",
       "      <td>1.0</td>\n",
       "      <td>10.0</td>\n",
       "      <td>6.0</td>\n",
       "      <td>2.0</td>\n",
       "      <td>3</td>\n",
       "      <td>Very Low Performance</td>\n",
       "    </tr>\n",
       "    <tr>\n",
       "      <th>Raúl Albiol i Tortajada</th>\n",
       "      <td>0.991957</td>\n",
       "      <td>1.010780</td>\n",
       "      <td>0.648841</td>\n",
       "      <td>1.0</td>\n",
       "      <td>1.0</td>\n",
       "      <td>9.0</td>\n",
       "      <td>4.0</td>\n",
       "      <td>2.0</td>\n",
       "      <td>0</td>\n",
       "      <td>Low Performance</td>\n",
       "    </tr>\n",
       "    <tr>\n",
       "      <th>Omar El Kaddouri</th>\n",
       "      <td>0.896727</td>\n",
       "      <td>1.016721</td>\n",
       "      <td>0.052947</td>\n",
       "      <td>2.0</td>\n",
       "      <td>1.0</td>\n",
       "      <td>11.0</td>\n",
       "      <td>7.0</td>\n",
       "      <td>3.0</td>\n",
       "      <td>3</td>\n",
       "      <td>Very Low Performance</td>\n",
       "    </tr>\n",
       "    <tr>\n",
       "      <th>Mirko Valdifiori</th>\n",
       "      <td>0.202675</td>\n",
       "      <td>0.002576</td>\n",
       "      <td>0.106871</td>\n",
       "      <td>0.0</td>\n",
       "      <td>0.0</td>\n",
       "      <td>1.0</td>\n",
       "      <td>12.0</td>\n",
       "      <td>0.0</td>\n",
       "      <td>3</td>\n",
       "      <td>Very Low Performance</td>\n",
       "    </tr>\n",
       "    <tr>\n",
       "      <th>Kalidou Koulibaly</th>\n",
       "      <td>0.110876</td>\n",
       "      <td>0.018847</td>\n",
       "      <td>0.631180</td>\n",
       "      <td>0.0</td>\n",
       "      <td>0.0</td>\n",
       "      <td>5.0</td>\n",
       "      <td>9.0</td>\n",
       "      <td>0.0</td>\n",
       "      <td>0</td>\n",
       "      <td>Low Performance</td>\n",
       "    </tr>\n",
       "    <tr>\n",
       "      <th>José Manuel Reina Páez</th>\n",
       "      <td>0.062138</td>\n",
       "      <td>0.000000</td>\n",
       "      <td>0.225867</td>\n",
       "      <td>0.0</td>\n",
       "      <td>0.0</td>\n",
       "      <td>0.0</td>\n",
       "      <td>1.0</td>\n",
       "      <td>0.0</td>\n",
       "      <td>3</td>\n",
       "      <td>Very Low Performance</td>\n",
       "    </tr>\n",
       "    <tr>\n",
       "      <th>Ivan Strinić</th>\n",
       "      <td>0.033660</td>\n",
       "      <td>0.004115</td>\n",
       "      <td>0.050689</td>\n",
       "      <td>0.0</td>\n",
       "      <td>0.0</td>\n",
       "      <td>3.0</td>\n",
       "      <td>1.0</td>\n",
       "      <td>0.0</td>\n",
       "      <td>3</td>\n",
       "      <td>Very Low Performance</td>\n",
       "    </tr>\n",
       "    <tr>\n",
       "      <th>Vlad Iulian Chiricheș</th>\n",
       "      <td>0.022229</td>\n",
       "      <td>0.998071</td>\n",
       "      <td>0.140314</td>\n",
       "      <td>0.0</td>\n",
       "      <td>1.0</td>\n",
       "      <td>5.0</td>\n",
       "      <td>0.0</td>\n",
       "      <td>1.0</td>\n",
       "      <td>3</td>\n",
       "      <td>Very Low Performance</td>\n",
       "    </tr>\n",
       "    <tr>\n",
       "      <th>Christian Maggio</th>\n",
       "      <td>0.019105</td>\n",
       "      <td>0.001482</td>\n",
       "      <td>0.055002</td>\n",
       "      <td>0.0</td>\n",
       "      <td>0.0</td>\n",
       "      <td>1.0</td>\n",
       "      <td>2.0</td>\n",
       "      <td>0.0</td>\n",
       "      <td>3</td>\n",
       "      <td>Very Low Performance</td>\n",
       "    </tr>\n",
       "    <tr>\n",
       "      <th>Nathaniel Chalobah</th>\n",
       "      <td>0.000491</td>\n",
       "      <td>0.000000</td>\n",
       "      <td>0.012984</td>\n",
       "      <td>0.0</td>\n",
       "      <td>0.0</td>\n",
       "      <td>0.0</td>\n",
       "      <td>2.0</td>\n",
       "      <td>0.0</td>\n",
       "      <td>3</td>\n",
       "      <td>Very Low Performance</td>\n",
       "    </tr>\n",
       "    <tr>\n",
       "      <th>Gabriel Vasconelos Ferreira</th>\n",
       "      <td>0.000298</td>\n",
       "      <td>0.000000</td>\n",
       "      <td>0.003661</td>\n",
       "      <td>0.0</td>\n",
       "      <td>0.0</td>\n",
       "      <td>0.0</td>\n",
       "      <td>0.0</td>\n",
       "      <td>0.0</td>\n",
       "      <td>3</td>\n",
       "      <td>Very Low Performance</td>\n",
       "    </tr>\n",
       "    <tr>\n",
       "      <th>Vasco Regini</th>\n",
       "      <td>0.000013</td>\n",
       "      <td>0.000000</td>\n",
       "      <td>0.001134</td>\n",
       "      <td>0.0</td>\n",
       "      <td>0.0</td>\n",
       "      <td>0.0</td>\n",
       "      <td>0.0</td>\n",
       "      <td>0.0</td>\n",
       "      <td>3</td>\n",
       "      <td>Very Low Performance</td>\n",
       "    </tr>\n",
       "  </tbody>\n",
       "</table>\n",
       "</div>"
      ],
      "text/plain": [
       "                                   xA         xG       DCI     A     G  Shots  \\\n",
       "player                                                                          \n",
       "Marek Hamšík                 8.386888   5.805957  0.842016  11.0   6.0   84.0   \n",
       "Lorenzo Insigne              8.058965  11.922057  0.513581  10.0  12.0  135.0   \n",
       "Allan Marques Loureiro       5.057558   2.993061  0.597250   5.0   3.0   29.0   \n",
       "Jorge Luiz Frello Filho      4.457499   0.012865  1.000000   4.0   0.0    6.0   \n",
       "José María Callejón Bueno    4.009930   6.945088  0.393699   6.0   7.0   64.0   \n",
       "Dries Mertens                3.410864   5.065881  0.195882   5.0   5.0   55.0   \n",
       "Gonzalo Gerardo Higuaín      2.399893  36.026913  0.333426   2.0  36.0  182.0   \n",
       "Faouzi Ghoulam               2.074198   0.041996  0.554894   3.0   0.0   22.0   \n",
       "Elseid Hysaj                 2.051194   0.019599  0.566918   2.0   0.0   12.0   \n",
       "Manolo Gabbiadini            1.822027   4.930614  0.047658   3.0   5.0   30.0   \n",
       "David López Silva            1.026265   1.008688  0.167161   1.0   1.0   10.0   \n",
       "Raúl Albiol i Tortajada      0.991957   1.010780  0.648841   1.0   1.0    9.0   \n",
       "Omar El Kaddouri             0.896727   1.016721  0.052947   2.0   1.0   11.0   \n",
       "Mirko Valdifiori             0.202675   0.002576  0.106871   0.0   0.0    1.0   \n",
       "Kalidou Koulibaly            0.110876   0.018847  0.631180   0.0   0.0    5.0   \n",
       "José Manuel Reina Páez       0.062138   0.000000  0.225867   0.0   0.0    0.0   \n",
       "Ivan Strinić                 0.033660   0.004115  0.050689   0.0   0.0    3.0   \n",
       "Vlad Iulian Chiricheș        0.022229   0.998071  0.140314   0.0   1.0    5.0   \n",
       "Christian Maggio             0.019105   0.001482  0.055002   0.0   0.0    1.0   \n",
       "Nathaniel Chalobah           0.000491   0.000000  0.012984   0.0   0.0    0.0   \n",
       "Gabriel Vasconelos Ferreira  0.000298   0.000000  0.003661   0.0   0.0    0.0   \n",
       "Vasco Regini                 0.000013   0.000000  0.001134   0.0   0.0    0.0   \n",
       "\n",
       "                             Passes_to_Shot  Total_contribution  Cluster  \\\n",
       "player                                                                     \n",
       "Marek Hamšík                           81.0                17.0        2   \n",
       "Lorenzo Insigne                        58.0                22.0        2   \n",
       "Allan Marques Loureiro                 35.0                 8.0        0   \n",
       "Jorge Luiz Frello Filho                63.0                 4.0        0   \n",
       "José María Callejón Bueno              40.0                13.0        4   \n",
       "Dries Mertens                          26.0                10.0        4   \n",
       "Gonzalo Gerardo Higuaín                47.0                38.0        1   \n",
       "Faouzi Ghoulam                         28.0                 3.0        0   \n",
       "Elseid Hysaj                           24.0                 2.0        0   \n",
       "Manolo Gabbiadini                      10.0                 8.0        4   \n",
       "David López Silva                       6.0                 2.0        3   \n",
       "Raúl Albiol i Tortajada                 4.0                 2.0        0   \n",
       "Omar El Kaddouri                        7.0                 3.0        3   \n",
       "Mirko Valdifiori                       12.0                 0.0        3   \n",
       "Kalidou Koulibaly                       9.0                 0.0        0   \n",
       "José Manuel Reina Páez                  1.0                 0.0        3   \n",
       "Ivan Strinić                            1.0                 0.0        3   \n",
       "Vlad Iulian Chiricheș                   0.0                 1.0        3   \n",
       "Christian Maggio                        2.0                 0.0        3   \n",
       "Nathaniel Chalobah                      2.0                 0.0        3   \n",
       "Gabriel Vasconelos Ferreira             0.0                 0.0        3   \n",
       "Vasco Regini                            0.0                 0.0        3   \n",
       "\n",
       "                                    Cluster_Label  \n",
       "player                                             \n",
       "Marek Hamšík                     Good Performance  \n",
       "Lorenzo Insigne                  Good Performance  \n",
       "Allan Marques Loureiro            Low Performance  \n",
       "Jorge Luiz Frello Filho           Low Performance  \n",
       "José María Callejón Bueno     Average Performance  \n",
       "Dries Mertens                 Average Performance  \n",
       "Gonzalo Gerardo Higuaín          High Performance  \n",
       "Faouzi Ghoulam                    Low Performance  \n",
       "Elseid Hysaj                      Low Performance  \n",
       "Manolo Gabbiadini             Average Performance  \n",
       "David López Silva            Very Low Performance  \n",
       "Raúl Albiol i Tortajada           Low Performance  \n",
       "Omar El Kaddouri             Very Low Performance  \n",
       "Mirko Valdifiori             Very Low Performance  \n",
       "Kalidou Koulibaly                 Low Performance  \n",
       "José Manuel Reina Páez       Very Low Performance  \n",
       "Ivan Strinić                 Very Low Performance  \n",
       "Vlad Iulian Chiricheș        Very Low Performance  \n",
       "Christian Maggio             Very Low Performance  \n",
       "Nathaniel Chalobah           Very Low Performance  \n",
       "Gabriel Vasconelos Ferreira  Very Low Performance  \n",
       "Vasco Regini                 Very Low Performance  "
      ]
     },
     "execution_count": 331,
     "metadata": {},
     "output_type": "execute_result"
    }
   ],
   "source": [
    "players_stats"
   ]
  },
  {
   "cell_type": "code",
   "execution_count": 332,
   "metadata": {},
   "outputs": [
    {
     "data": {
      "text/html": [
       "<div>\n",
       "<style scoped>\n",
       "    .dataframe tbody tr th:only-of-type {\n",
       "        vertical-align: middle;\n",
       "    }\n",
       "\n",
       "    .dataframe tbody tr th {\n",
       "        vertical-align: top;\n",
       "    }\n",
       "\n",
       "    .dataframe thead th {\n",
       "        text-align: right;\n",
       "    }\n",
       "</style>\n",
       "<table border=\"1\" class=\"dataframe\">\n",
       "  <thead>\n",
       "    <tr style=\"text-align: right;\">\n",
       "      <th></th>\n",
       "      <th>home_wins</th>\n",
       "      <th>away_wins</th>\n",
       "      <th>home_losses</th>\n",
       "      <th>away_losses</th>\n",
       "      <th>home_draws</th>\n",
       "      <th>away_draws</th>\n",
       "      <th>total_wins</th>\n",
       "      <th>total_losses</th>\n",
       "      <th>total_draws</th>\n",
       "      <th>goals_made</th>\n",
       "      <th>goals_conceded</th>\n",
       "      <th>goal_difference</th>\n",
       "      <th>shots_made</th>\n",
       "      <th>shots_conceded</th>\n",
       "      <th>xG</th>\n",
       "      <th>xA</th>\n",
       "      <th>Assists</th>\n",
       "    </tr>\n",
       "  </thead>\n",
       "  <tbody>\n",
       "    <tr>\n",
       "      <th>0</th>\n",
       "      <td>16</td>\n",
       "      <td>9</td>\n",
       "      <td>0</td>\n",
       "      <td>6</td>\n",
       "      <td>3</td>\n",
       "      <td>4</td>\n",
       "      <td>25</td>\n",
       "      <td>6</td>\n",
       "      <td>7</td>\n",
       "      <td>80</td>\n",
       "      <td>32</td>\n",
       "      <td>48</td>\n",
       "      <td>664</td>\n",
       "      <td>348</td>\n",
       "      <td>77.825302</td>\n",
       "      <td>45.095448</td>\n",
       "      <td>55.0</td>\n",
       "    </tr>\n",
       "  </tbody>\n",
       "</table>\n",
       "</div>"
      ],
      "text/plain": [
       "   home_wins  away_wins  home_losses  away_losses  home_draws  away_draws  \\\n",
       "0         16          9            0            6           3           4   \n",
       "\n",
       "   total_wins  total_losses  total_draws  goals_made  goals_conceded  \\\n",
       "0          25             6            7          80              32   \n",
       "\n",
       "   goal_difference  shots_made  shots_conceded         xG         xA  Assists  \n",
       "0               48         664             348  77.825302  45.095448     55.0  "
      ]
     },
     "execution_count": 332,
     "metadata": {},
     "output_type": "execute_result"
    }
   ],
   "source": [
    "# Summing the expected goals (xG) for all players to get Napoli's overall xG\n",
    "napoli_performances['xG'] = players_stats['xG'].sum()\n",
    "\n",
    "# Summing the expected assists (xA) for all players to get Napoli's overall xA\n",
    "napoli_performances['xA'] = players_stats['xA'].sum()\n",
    "\n",
    "# Summing the actual assists made by all players to get Napoli's total assists\n",
    "napoli_performances['Assists'] = players_stats['A'].sum()\n",
    "\n",
    "# Displaying the updated Napoli performances DataFrame\n",
    "napoli_performances"
   ]
  },
  {
   "cell_type": "code",
   "execution_count": 333,
   "metadata": {},
   "outputs": [],
   "source": [
    "# Saving the players' stats DataFrame to a CSV file for future reference\n",
    "players_stats.to_csv('Sources/players_stats.csv', index=True)\n",
    "\n",
    "# Saving the Napoli performances DataFrame to a CSV file for future reference\n",
    "napoli_performances.to_csv('Sources/napoli_performances.csv', index=True)"
   ]
  }
 ],
 "metadata": {
  "kernelspec": {
   "display_name": "Python 3",
   "language": "python",
   "name": "python3"
  },
  "language_info": {
   "codemirror_mode": {
    "name": "ipython",
    "version": 3
   },
   "file_extension": ".py",
   "mimetype": "text/x-python",
   "name": "python",
   "nbconvert_exporter": "python",
   "pygments_lexer": "ipython3",
   "version": "3.11.0"
  }
 },
 "nbformat": 4,
 "nbformat_minor": 2
}
